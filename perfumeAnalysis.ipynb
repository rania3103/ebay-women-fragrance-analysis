{
 "cells": [
  {
   "cell_type": "markdown",
   "id": "7c7fc314-7d67-455a-a9cb-0bb2e99dd0cb",
   "metadata": {},
   "source": [
    "# Comprehensive Analysis of Women Fragrances in the E-Commerce Market (ebay)"
   ]
  },
  {
   "cell_type": "markdown",
   "id": "ab09c199-f139-46eb-83db-9a52d5c1a1ba",
   "metadata": {},
   "source": [
    "## Introduction\n",
    "This project aims to analyze the sales data of women's fragrances on eBay for the year 2024. By examining this dataset, we seek to uncover trends and insights."
   ]
  },
  {
   "cell_type": "code",
   "execution_count": 1,
   "id": "198e6b6f-c423-404d-8417-1801a10f299f",
   "metadata": {},
   "outputs": [],
   "source": [
    "# import libraries\n",
    "import pandas as pd\n",
    "import matplotlib.pyplot as plt\n",
    "import seaborn as sns\n",
    "import numpy as np\n",
    "sns.set_style('darkgrid')"
   ]
  },
  {
   "cell_type": "code",
   "execution_count": 2,
   "id": "d513bce4-2b71-416e-90c9-f5d2b19d87ba",
   "metadata": {},
   "outputs": [],
   "source": [
    "# read in file\n",
    "women_df = pd.read_csv('ebay_womens_perfume.csv')"
   ]
  },
  {
   "cell_type": "code",
   "execution_count": 3,
   "id": "b3a10d1b-1c9c-4194-8cc6-c8ce7e53cad8",
   "metadata": {},
   "outputs": [
    {
     "data": {
      "text/html": [
       "<div>\n",
       "<style scoped>\n",
       "    .dataframe tbody tr th:only-of-type {\n",
       "        vertical-align: middle;\n",
       "    }\n",
       "\n",
       "    .dataframe tbody tr th {\n",
       "        vertical-align: top;\n",
       "    }\n",
       "\n",
       "    .dataframe thead th {\n",
       "        text-align: right;\n",
       "    }\n",
       "</style>\n",
       "<table border=\"1\" class=\"dataframe\">\n",
       "  <thead>\n",
       "    <tr style=\"text-align: right;\">\n",
       "      <th></th>\n",
       "      <th>brand</th>\n",
       "      <th>title</th>\n",
       "      <th>type</th>\n",
       "      <th>price</th>\n",
       "      <th>priceWithCurrency</th>\n",
       "      <th>available</th>\n",
       "      <th>availableText</th>\n",
       "      <th>sold</th>\n",
       "      <th>lastUpdated</th>\n",
       "      <th>itemLocation</th>\n",
       "    </tr>\n",
       "  </thead>\n",
       "  <tbody>\n",
       "    <tr>\n",
       "      <th>0</th>\n",
       "      <td>Carolina Herrera</td>\n",
       "      <td>Good Girl by Carolina Herrera 2.7 oz Eau De Pa...</td>\n",
       "      <td>Eau de Parfum</td>\n",
       "      <td>43.99</td>\n",
       "      <td>US $43.99/ea</td>\n",
       "      <td>2.0</td>\n",
       "      <td>2 available / 393 sold</td>\n",
       "      <td>393.0</td>\n",
       "      <td>May 23, 2024 10:43:50 PDT</td>\n",
       "      <td>Thomasville, Alabama, United States</td>\n",
       "    </tr>\n",
       "    <tr>\n",
       "      <th>1</th>\n",
       "      <td>As Shown</td>\n",
       "      <td>Parfums de Marly Delina La Rosee Eau de Parfum...</td>\n",
       "      <td>Eau de Parfum</td>\n",
       "      <td>79.99</td>\n",
       "      <td>US $79.99</td>\n",
       "      <td>5.0</td>\n",
       "      <td>5 available / 40 sold</td>\n",
       "      <td>40.0</td>\n",
       "      <td>May 24, 2024 00:15:48 PDT</td>\n",
       "      <td>New Jersey, Hong Kong</td>\n",
       "    </tr>\n",
       "    <tr>\n",
       "      <th>2</th>\n",
       "      <td>PRADA</td>\n",
       "      <td>PRADA Paradoxe by Prada EDP 3.0oz/90ml Spray P...</td>\n",
       "      <td>Eau de Parfum</td>\n",
       "      <td>59.99</td>\n",
       "      <td>US $59.99</td>\n",
       "      <td>10.0</td>\n",
       "      <td>More than 10 available / 35 sold</td>\n",
       "      <td>35.0</td>\n",
       "      <td>May 14, 2024 20:54:25 PDT</td>\n",
       "      <td>Orange, New Jersey, United States</td>\n",
       "    </tr>\n",
       "    <tr>\n",
       "      <th>3</th>\n",
       "      <td>As Show</td>\n",
       "      <td>J'adore Parfum D'eau by Christian 3.4 oz EDP F...</td>\n",
       "      <td>Eau de Parfum</td>\n",
       "      <td>59.99</td>\n",
       "      <td>US $59.99/ea</td>\n",
       "      <td>10.0</td>\n",
       "      <td>More than 10 available / 9 sold</td>\n",
       "      <td>9.0</td>\n",
       "      <td>May 23, 2024 01:23:05 PDT</td>\n",
       "      <td>USA, New Jersey, Hong Kong</td>\n",
       "    </tr>\n",
       "    <tr>\n",
       "      <th>4</th>\n",
       "      <td>Khadlaj</td>\n",
       "      <td>Shiyaaka for Men EDP Spray 100ML (3.4 FL.OZ) B...</td>\n",
       "      <td>Eau de Parfum</td>\n",
       "      <td>29.99</td>\n",
       "      <td>US $29.99/ea</td>\n",
       "      <td>10.0</td>\n",
       "      <td>More than 10 available</td>\n",
       "      <td>NaN</td>\n",
       "      <td>NaN</td>\n",
       "      <td>Little Ferry, New Jersey, United States</td>\n",
       "    </tr>\n",
       "  </tbody>\n",
       "</table>\n",
       "</div>"
      ],
      "text/plain": [
       "              brand                                              title  \\\n",
       "0  Carolina Herrera  Good Girl by Carolina Herrera 2.7 oz Eau De Pa...   \n",
       "1          As Shown  Parfums de Marly Delina La Rosee Eau de Parfum...   \n",
       "2             PRADA  PRADA Paradoxe by Prada EDP 3.0oz/90ml Spray P...   \n",
       "3           As Show  J'adore Parfum D'eau by Christian 3.4 oz EDP F...   \n",
       "4           Khadlaj  Shiyaaka for Men EDP Spray 100ML (3.4 FL.OZ) B...   \n",
       "\n",
       "            type  price priceWithCurrency  available  \\\n",
       "0  Eau de Parfum  43.99      US $43.99/ea        2.0   \n",
       "1  Eau de Parfum  79.99         US $79.99        5.0   \n",
       "2  Eau de Parfum  59.99         US $59.99       10.0   \n",
       "3  Eau de Parfum  59.99      US $59.99/ea       10.0   \n",
       "4  Eau de Parfum  29.99      US $29.99/ea       10.0   \n",
       "\n",
       "                      availableText   sold                lastUpdated  \\\n",
       "0            2 available / 393 sold  393.0  May 23, 2024 10:43:50 PDT   \n",
       "1             5 available / 40 sold   40.0  May 24, 2024 00:15:48 PDT   \n",
       "2  More than 10 available / 35 sold   35.0  May 14, 2024 20:54:25 PDT   \n",
       "3   More than 10 available / 9 sold    9.0  May 23, 2024 01:23:05 PDT   \n",
       "4            More than 10 available    NaN                        NaN   \n",
       "\n",
       "                              itemLocation  \n",
       "0      Thomasville, Alabama, United States  \n",
       "1                    New Jersey, Hong Kong  \n",
       "2        Orange, New Jersey, United States  \n",
       "3               USA, New Jersey, Hong Kong  \n",
       "4  Little Ferry, New Jersey, United States  "
      ]
     },
     "execution_count": 3,
     "metadata": {},
     "output_type": "execute_result"
    }
   ],
   "source": [
    "women_df.head()"
   ]
  },
  {
   "cell_type": "code",
   "execution_count": 4,
   "id": "89e2ff5f-26ad-4d7b-813e-bccdb3d60f31",
   "metadata": {},
   "outputs": [
    {
     "data": {
      "text/plain": [
       "Index(['brand', 'title', 'type', 'price', 'priceWithCurrency', 'available',\n",
       "       'availableText', 'sold', 'lastUpdated', 'itemLocation'],\n",
       "      dtype='object')"
      ]
     },
     "execution_count": 4,
     "metadata": {},
     "output_type": "execute_result"
    }
   ],
   "source": [
    "women_df.columns"
   ]
  },
  {
   "cell_type": "code",
   "execution_count": 5,
   "id": "cd8a4bab-9ac8-47c9-9a5a-a14a2736bfea",
   "metadata": {},
   "outputs": [
    {
     "data": {
      "text/plain": [
       "brand                 object\n",
       "title                 object\n",
       "type                  object\n",
       "price                float64\n",
       "priceWithCurrency     object\n",
       "available            float64\n",
       "availableText         object\n",
       "sold                 float64\n",
       "lastUpdated           object\n",
       "itemLocation          object\n",
       "dtype: object"
      ]
     },
     "execution_count": 5,
     "metadata": {},
     "output_type": "execute_result"
    }
   ],
   "source": [
    "women_df.dtypes"
   ]
  },
  {
   "cell_type": "code",
   "execution_count": 6,
   "id": "806c1493-5ce0-418f-8ef1-5a8dd2c177d4",
   "metadata": {},
   "outputs": [
    {
     "name": "stdout",
     "output_type": "stream",
     "text": [
      "<class 'pandas.core.frame.DataFrame'>\n",
      "RangeIndex: 1000 entries, 0 to 999\n",
      "Data columns (total 10 columns):\n",
      " #   Column             Non-Null Count  Dtype  \n",
      "---  ------             --------------  -----  \n",
      " 0   brand              999 non-null    object \n",
      " 1   title              1000 non-null   object \n",
      " 2   type               998 non-null    object \n",
      " 3   price              1000 non-null   float64\n",
      " 4   priceWithCurrency  1000 non-null   object \n",
      " 5   available          869 non-null    float64\n",
      " 6   availableText      992 non-null    object \n",
      " 7   sold               984 non-null    float64\n",
      " 8   lastUpdated        927 non-null    object \n",
      " 9   itemLocation       1000 non-null   object \n",
      "dtypes: float64(3), object(7)\n",
      "memory usage: 78.3+ KB\n"
     ]
    }
   ],
   "source": [
    "women_df.info()"
   ]
  },
  {
   "cell_type": "code",
   "execution_count": 7,
   "id": "09eaf5d1-2ee1-40b0-8b84-01907387f16b",
   "metadata": {},
   "outputs": [
    {
     "data": {
      "text/html": [
       "<div>\n",
       "<style scoped>\n",
       "    .dataframe tbody tr th:only-of-type {\n",
       "        vertical-align: middle;\n",
       "    }\n",
       "\n",
       "    .dataframe tbody tr th {\n",
       "        vertical-align: top;\n",
       "    }\n",
       "\n",
       "    .dataframe thead th {\n",
       "        text-align: right;\n",
       "    }\n",
       "</style>\n",
       "<table border=\"1\" class=\"dataframe\">\n",
       "  <thead>\n",
       "    <tr style=\"text-align: right;\">\n",
       "      <th></th>\n",
       "      <th>price</th>\n",
       "      <th>available</th>\n",
       "      <th>sold</th>\n",
       "    </tr>\n",
       "  </thead>\n",
       "  <tbody>\n",
       "    <tr>\n",
       "      <th>count</th>\n",
       "      <td>1000.000000</td>\n",
       "      <td>869.000000</td>\n",
       "      <td>984.000000</td>\n",
       "    </tr>\n",
       "    <tr>\n",
       "      <th>mean</th>\n",
       "      <td>39.892980</td>\n",
       "      <td>21.426928</td>\n",
       "      <td>497.321138</td>\n",
       "    </tr>\n",
       "    <tr>\n",
       "      <th>std</th>\n",
       "      <td>29.072186</td>\n",
       "      <td>51.476703</td>\n",
       "      <td>1372.510561</td>\n",
       "    </tr>\n",
       "    <tr>\n",
       "      <th>min</th>\n",
       "      <td>1.990000</td>\n",
       "      <td>2.000000</td>\n",
       "      <td>1.000000</td>\n",
       "    </tr>\n",
       "    <tr>\n",
       "      <th>25%</th>\n",
       "      <td>20.700000</td>\n",
       "      <td>6.000000</td>\n",
       "      <td>15.000000</td>\n",
       "    </tr>\n",
       "    <tr>\n",
       "      <th>50%</th>\n",
       "      <td>32.990000</td>\n",
       "      <td>10.000000</td>\n",
       "      <td>52.000000</td>\n",
       "    </tr>\n",
       "    <tr>\n",
       "      <th>75%</th>\n",
       "      <td>49.990000</td>\n",
       "      <td>10.000000</td>\n",
       "      <td>263.750000</td>\n",
       "    </tr>\n",
       "    <tr>\n",
       "      <th>max</th>\n",
       "      <td>299.990000</td>\n",
       "      <td>557.000000</td>\n",
       "      <td>17854.000000</td>\n",
       "    </tr>\n",
       "  </tbody>\n",
       "</table>\n",
       "</div>"
      ],
      "text/plain": [
       "             price   available          sold\n",
       "count  1000.000000  869.000000    984.000000\n",
       "mean     39.892980   21.426928    497.321138\n",
       "std      29.072186   51.476703   1372.510561\n",
       "min       1.990000    2.000000      1.000000\n",
       "25%      20.700000    6.000000     15.000000\n",
       "50%      32.990000   10.000000     52.000000\n",
       "75%      49.990000   10.000000    263.750000\n",
       "max     299.990000  557.000000  17854.000000"
      ]
     },
     "execution_count": 7,
     "metadata": {},
     "output_type": "execute_result"
    }
   ],
   "source": [
    "women_df.describe()"
   ]
  },
  {
   "cell_type": "code",
   "execution_count": 8,
   "id": "a02179e3-9917-44b2-8e85-a4fe2fa30273",
   "metadata": {},
   "outputs": [
    {
     "data": {
      "text/plain": [
       "brand                  1\n",
       "title                  0\n",
       "type                   2\n",
       "price                  0\n",
       "priceWithCurrency      0\n",
       "available            131\n",
       "availableText          8\n",
       "sold                  16\n",
       "lastUpdated           73\n",
       "itemLocation           0\n",
       "dtype: int64"
      ]
     },
     "execution_count": 8,
     "metadata": {},
     "output_type": "execute_result"
    }
   ],
   "source": [
    "women_df.isnull().sum()"
   ]
  },
  {
   "cell_type": "code",
   "execution_count": 9,
   "id": "7a3178b9-36e4-41a2-85f9-b5c54003d04a",
   "metadata": {},
   "outputs": [
    {
     "data": {
      "text/html": [
       "<div>\n",
       "<style scoped>\n",
       "    .dataframe tbody tr th:only-of-type {\n",
       "        vertical-align: middle;\n",
       "    }\n",
       "\n",
       "    .dataframe tbody tr th {\n",
       "        vertical-align: top;\n",
       "    }\n",
       "\n",
       "    .dataframe thead th {\n",
       "        text-align: right;\n",
       "    }\n",
       "</style>\n",
       "<table border=\"1\" class=\"dataframe\">\n",
       "  <thead>\n",
       "    <tr style=\"text-align: right;\">\n",
       "      <th></th>\n",
       "      <th>brand</th>\n",
       "      <th>title</th>\n",
       "      <th>type</th>\n",
       "      <th>price</th>\n",
       "      <th>priceWithCurrency</th>\n",
       "      <th>available</th>\n",
       "      <th>availableText</th>\n",
       "      <th>sold</th>\n",
       "      <th>lastUpdated</th>\n",
       "      <th>itemLocation</th>\n",
       "    </tr>\n",
       "  </thead>\n",
       "  <tbody>\n",
       "    <tr>\n",
       "      <th>856</th>\n",
       "      <td>NaN</td>\n",
       "      <td>Bright Crystal de Versace Eau de Toilette 3.0 ...</td>\n",
       "      <td>NaN</td>\n",
       "      <td>29.99</td>\n",
       "      <td>US $29.99</td>\n",
       "      <td>NaN</td>\n",
       "      <td>2 disponibles / 3 vendidos</td>\n",
       "      <td>NaN</td>\n",
       "      <td>23 may 2024 02:42:14 EST</td>\n",
       "      <td>Hamtramck, Michigan, Estados Unidos</td>\n",
       "    </tr>\n",
       "  </tbody>\n",
       "</table>\n",
       "</div>"
      ],
      "text/plain": [
       "    brand                                              title type  price  \\\n",
       "856   NaN  Bright Crystal de Versace Eau de Toilette 3.0 ...  NaN  29.99   \n",
       "\n",
       "    priceWithCurrency  available               availableText  sold  \\\n",
       "856         US $29.99        NaN  2 disponibles / 3 vendidos   NaN   \n",
       "\n",
       "                  lastUpdated                         itemLocation  \n",
       "856  23 may 2024 02:42:14 EST  Hamtramck, Michigan, Estados Unidos  "
      ]
     },
     "execution_count": 9,
     "metadata": {},
     "output_type": "execute_result"
    }
   ],
   "source": [
    "null_value = women_df['brand'].isnull()\n",
    "women_df[null_value]"
   ]
  },
  {
   "cell_type": "code",
   "execution_count": 10,
   "id": "5024cc45-9daf-40be-a6ed-1868452208ac",
   "metadata": {},
   "outputs": [
    {
     "data": {
      "text/html": [
       "<div>\n",
       "<style scoped>\n",
       "    .dataframe tbody tr th:only-of-type {\n",
       "        vertical-align: middle;\n",
       "    }\n",
       "\n",
       "    .dataframe tbody tr th {\n",
       "        vertical-align: top;\n",
       "    }\n",
       "\n",
       "    .dataframe thead th {\n",
       "        text-align: right;\n",
       "    }\n",
       "</style>\n",
       "<table border=\"1\" class=\"dataframe\">\n",
       "  <thead>\n",
       "    <tr style=\"text-align: right;\">\n",
       "      <th></th>\n",
       "      <th>brand</th>\n",
       "      <th>title</th>\n",
       "      <th>type</th>\n",
       "      <th>price</th>\n",
       "      <th>priceWithCurrency</th>\n",
       "      <th>available</th>\n",
       "      <th>availableText</th>\n",
       "      <th>sold</th>\n",
       "      <th>lastUpdated</th>\n",
       "      <th>itemLocation</th>\n",
       "    </tr>\n",
       "  </thead>\n",
       "  <tbody>\n",
       "    <tr>\n",
       "      <th>7</th>\n",
       "      <td>Versace</td>\n",
       "      <td>Versace Bright Crystal Women EDT 6.7 oz 200 ml...</td>\n",
       "      <td>Eau de Toilette</td>\n",
       "      <td>52.79</td>\n",
       "      <td>US $52.79/ea</td>\n",
       "      <td>6.0</td>\n",
       "      <td>6 available / 258 sold</td>\n",
       "      <td>258.0</td>\n",
       "      <td>May 21, 2024 06:41:13 PDT</td>\n",
       "      <td>Dexter, Michigan, United States</td>\n",
       "    </tr>\n",
       "    <tr>\n",
       "      <th>8</th>\n",
       "      <td>Versace</td>\n",
       "      <td>Versace Bright Crystal by Versace for Women ED...</td>\n",
       "      <td>Eau de Toilette</td>\n",
       "      <td>29.99</td>\n",
       "      <td>US $29.99</td>\n",
       "      <td>NaN</td>\n",
       "      <td>Last One / 251 sold</td>\n",
       "      <td>251.0</td>\n",
       "      <td>May 23, 2024 22:39:02 PDT</td>\n",
       "      <td>Jamaica, New York, United States</td>\n",
       "    </tr>\n",
       "    <tr>\n",
       "      <th>39</th>\n",
       "      <td>Versace</td>\n",
       "      <td>Versace Dylan Turquoise by Gianni Versace for ...</td>\n",
       "      <td>Eau de Toilette</td>\n",
       "      <td>32.20</td>\n",
       "      <td>US $32.20/ea</td>\n",
       "      <td>60.0</td>\n",
       "      <td>60 available / 157 sold</td>\n",
       "      <td>157.0</td>\n",
       "      <td>May 17, 2024 06:09:15 PDT</td>\n",
       "      <td>Dallas, Texas, United States</td>\n",
       "    </tr>\n",
       "    <tr>\n",
       "      <th>61</th>\n",
       "      <td>Versace</td>\n",
       "      <td>Versace Bright Crystal Eau De Toilette Rollerb...</td>\n",
       "      <td>Eau de Toilette</td>\n",
       "      <td>15.49</td>\n",
       "      <td>US $15.49/ea</td>\n",
       "      <td>10.0</td>\n",
       "      <td>More than 10 available / 1,089 sold</td>\n",
       "      <td>1089.0</td>\n",
       "      <td>Apr 30, 2024 06:41:19 PDT</td>\n",
       "      <td>Keyport, New Jersey, United States</td>\n",
       "    </tr>\n",
       "    <tr>\n",
       "      <th>93</th>\n",
       "      <td>Versace</td>\n",
       "      <td>Versace Bright Crystal Eau De Toilette Spray 6...</td>\n",
       "      <td>Eau de Toilette</td>\n",
       "      <td>41.50</td>\n",
       "      <td>US $41.50/ea</td>\n",
       "      <td>3.0</td>\n",
       "      <td>3 available / 255 sold</td>\n",
       "      <td>255.0</td>\n",
       "      <td>May 24, 2024 01:02:37 PDT</td>\n",
       "      <td>San Jose, California, United States</td>\n",
       "    </tr>\n",
       "  </tbody>\n",
       "</table>\n",
       "</div>"
      ],
      "text/plain": [
       "      brand                                              title  \\\n",
       "7   Versace  Versace Bright Crystal Women EDT 6.7 oz 200 ml...   \n",
       "8   Versace  Versace Bright Crystal by Versace for Women ED...   \n",
       "39  Versace  Versace Dylan Turquoise by Gianni Versace for ...   \n",
       "61  Versace  Versace Bright Crystal Eau De Toilette Rollerb...   \n",
       "93  Versace  Versace Bright Crystal Eau De Toilette Spray 6...   \n",
       "\n",
       "               type  price priceWithCurrency  available  \\\n",
       "7   Eau de Toilette  52.79      US $52.79/ea        6.0   \n",
       "8   Eau de Toilette  29.99         US $29.99        NaN   \n",
       "39  Eau de Toilette  32.20      US $32.20/ea       60.0   \n",
       "61  Eau de Toilette  15.49      US $15.49/ea       10.0   \n",
       "93  Eau de Toilette  41.50      US $41.50/ea        3.0   \n",
       "\n",
       "                          availableText    sold                lastUpdated  \\\n",
       "7                6 available / 258 sold   258.0  May 21, 2024 06:41:13 PDT   \n",
       "8                   Last One / 251 sold   251.0  May 23, 2024 22:39:02 PDT   \n",
       "39              60 available / 157 sold   157.0  May 17, 2024 06:09:15 PDT   \n",
       "61  More than 10 available / 1,089 sold  1089.0  Apr 30, 2024 06:41:19 PDT   \n",
       "93               3 available / 255 sold   255.0  May 24, 2024 01:02:37 PDT   \n",
       "\n",
       "                           itemLocation  \n",
       "7       Dexter, Michigan, United States  \n",
       "8      Jamaica, New York, United States  \n",
       "39         Dallas, Texas, United States  \n",
       "61   Keyport, New Jersey, United States  \n",
       "93  San Jose, California, United States  "
      ]
     },
     "execution_count": 10,
     "metadata": {},
     "output_type": "execute_result"
    }
   ],
   "source": [
    "women_df[women_df['brand'] == 'Versace'].head()"
   ]
  },
  {
   "cell_type": "code",
   "execution_count": 11,
   "id": "cd89252b-6c93-4905-a066-8e2a44addc52",
   "metadata": {},
   "outputs": [],
   "source": [
    "women_df['brand'].fillna('Versace', inplace=True)"
   ]
  },
  {
   "cell_type": "code",
   "execution_count": 12,
   "id": "fc92138c-bdb2-44cc-9ed9-fa46047ac932",
   "metadata": {},
   "outputs": [
    {
     "data": {
      "text/html": [
       "<div>\n",
       "<style scoped>\n",
       "    .dataframe tbody tr th:only-of-type {\n",
       "        vertical-align: middle;\n",
       "    }\n",
       "\n",
       "    .dataframe tbody tr th {\n",
       "        vertical-align: top;\n",
       "    }\n",
       "\n",
       "    .dataframe thead th {\n",
       "        text-align: right;\n",
       "    }\n",
       "</style>\n",
       "<table border=\"1\" class=\"dataframe\">\n",
       "  <thead>\n",
       "    <tr style=\"text-align: right;\">\n",
       "      <th></th>\n",
       "      <th>brand</th>\n",
       "      <th>title</th>\n",
       "      <th>type</th>\n",
       "      <th>price</th>\n",
       "      <th>priceWithCurrency</th>\n",
       "      <th>available</th>\n",
       "      <th>availableText</th>\n",
       "      <th>sold</th>\n",
       "      <th>lastUpdated</th>\n",
       "      <th>itemLocation</th>\n",
       "    </tr>\n",
       "  </thead>\n",
       "  <tbody>\n",
       "    <tr>\n",
       "      <th>463</th>\n",
       "      <td>As Show</td>\n",
       "      <td>Carmina By Creed EDP 75ml 2.5 oz Spray For Wom...</td>\n",
       "      <td>NaN</td>\n",
       "      <td>128.88</td>\n",
       "      <td>US $128.88</td>\n",
       "      <td>10.0</td>\n",
       "      <td>10 available / 21 sold</td>\n",
       "      <td>21.0</td>\n",
       "      <td>May 24, 2024 00:32:16 PDT</td>\n",
       "      <td>New Jersey, United States, Hong Kong</td>\n",
       "    </tr>\n",
       "    <tr>\n",
       "      <th>856</th>\n",
       "      <td>Versace</td>\n",
       "      <td>Bright Crystal de Versace Eau de Toilette 3.0 ...</td>\n",
       "      <td>NaN</td>\n",
       "      <td>29.99</td>\n",
       "      <td>US $29.99</td>\n",
       "      <td>NaN</td>\n",
       "      <td>2 disponibles / 3 vendidos</td>\n",
       "      <td>NaN</td>\n",
       "      <td>23 may 2024 02:42:14 EST</td>\n",
       "      <td>Hamtramck, Michigan, Estados Unidos</td>\n",
       "    </tr>\n",
       "  </tbody>\n",
       "</table>\n",
       "</div>"
      ],
      "text/plain": [
       "       brand                                              title type   price  \\\n",
       "463  As Show  Carmina By Creed EDP 75ml 2.5 oz Spray For Wom...  NaN  128.88   \n",
       "856  Versace  Bright Crystal de Versace Eau de Toilette 3.0 ...  NaN   29.99   \n",
       "\n",
       "    priceWithCurrency  available               availableText  sold  \\\n",
       "463        US $128.88       10.0      10 available / 21 sold  21.0   \n",
       "856         US $29.99        NaN  2 disponibles / 3 vendidos   NaN   \n",
       "\n",
       "                   lastUpdated                          itemLocation  \n",
       "463  May 24, 2024 00:32:16 PDT  New Jersey, United States, Hong Kong  \n",
       "856   23 may 2024 02:42:14 EST   Hamtramck, Michigan, Estados Unidos  "
      ]
     },
     "execution_count": 12,
     "metadata": {},
     "output_type": "execute_result"
    }
   ],
   "source": [
    "null_value = women_df['type'].isnull()\n",
    "women_df[null_value]"
   ]
  },
  {
   "cell_type": "code",
   "execution_count": 13,
   "id": "a26d2461-5242-4cd5-adaf-527373beb3fe",
   "metadata": {},
   "outputs": [],
   "source": [
    "women_df.loc[856,'type']= 'Eau de Toilette'"
   ]
  },
  {
   "cell_type": "code",
   "execution_count": 14,
   "id": "af4345f0-9ab0-4c0c-948e-25ea60a1209b",
   "metadata": {},
   "outputs": [
    {
     "data": {
      "text/html": [
       "<div>\n",
       "<style scoped>\n",
       "    .dataframe tbody tr th:only-of-type {\n",
       "        vertical-align: middle;\n",
       "    }\n",
       "\n",
       "    .dataframe tbody tr th {\n",
       "        vertical-align: top;\n",
       "    }\n",
       "\n",
       "    .dataframe thead th {\n",
       "        text-align: right;\n",
       "    }\n",
       "</style>\n",
       "<table border=\"1\" class=\"dataframe\">\n",
       "  <thead>\n",
       "    <tr style=\"text-align: right;\">\n",
       "      <th></th>\n",
       "      <th>brand</th>\n",
       "      <th>title</th>\n",
       "      <th>type</th>\n",
       "      <th>price</th>\n",
       "      <th>priceWithCurrency</th>\n",
       "      <th>available</th>\n",
       "      <th>availableText</th>\n",
       "      <th>sold</th>\n",
       "      <th>lastUpdated</th>\n",
       "      <th>itemLocation</th>\n",
       "    </tr>\n",
       "  </thead>\n",
       "  <tbody>\n",
       "    <tr>\n",
       "      <th>463</th>\n",
       "      <td>As Show</td>\n",
       "      <td>Carmina By Creed EDP 75ml 2.5 oz Spray For Wom...</td>\n",
       "      <td>NaN</td>\n",
       "      <td>128.88</td>\n",
       "      <td>US $128.88</td>\n",
       "      <td>10.0</td>\n",
       "      <td>10 available / 21 sold</td>\n",
       "      <td>21.0</td>\n",
       "      <td>May 24, 2024 00:32:16 PDT</td>\n",
       "      <td>New Jersey, United States, Hong Kong</td>\n",
       "    </tr>\n",
       "  </tbody>\n",
       "</table>\n",
       "</div>"
      ],
      "text/plain": [
       "       brand                                              title type   price  \\\n",
       "463  As Show  Carmina By Creed EDP 75ml 2.5 oz Spray For Wom...  NaN  128.88   \n",
       "\n",
       "    priceWithCurrency  available           availableText  sold  \\\n",
       "463        US $128.88       10.0  10 available / 21 sold  21.0   \n",
       "\n",
       "                   lastUpdated                          itemLocation  \n",
       "463  May 24, 2024 00:32:16 PDT  New Jersey, United States, Hong Kong  "
      ]
     },
     "execution_count": 14,
     "metadata": {},
     "output_type": "execute_result"
    }
   ],
   "source": [
    "cond = women_df['title'].astype(str).str.startswith('Carmina By Creed EDP')\n",
    "women_df[cond]"
   ]
  },
  {
   "cell_type": "code",
   "execution_count": 15,
   "id": "11efec1f-52ff-4bb1-b857-cb2a735ff5f2",
   "metadata": {},
   "outputs": [
    {
     "data": {
      "text/html": [
       "<div>\n",
       "<style scoped>\n",
       "    .dataframe tbody tr th:only-of-type {\n",
       "        vertical-align: middle;\n",
       "    }\n",
       "\n",
       "    .dataframe tbody tr th {\n",
       "        vertical-align: top;\n",
       "    }\n",
       "\n",
       "    .dataframe thead th {\n",
       "        text-align: right;\n",
       "    }\n",
       "</style>\n",
       "<table border=\"1\" class=\"dataframe\">\n",
       "  <thead>\n",
       "    <tr style=\"text-align: right;\">\n",
       "      <th></th>\n",
       "      <th>brand</th>\n",
       "      <th>title</th>\n",
       "      <th>type</th>\n",
       "      <th>price</th>\n",
       "      <th>priceWithCurrency</th>\n",
       "      <th>available</th>\n",
       "      <th>availableText</th>\n",
       "      <th>sold</th>\n",
       "      <th>lastUpdated</th>\n",
       "      <th>itemLocation</th>\n",
       "    </tr>\n",
       "  </thead>\n",
       "  <tbody>\n",
       "    <tr>\n",
       "      <th>3</th>\n",
       "      <td>As Show</td>\n",
       "      <td>J'adore Parfum D'eau by Christian 3.4 oz EDP F...</td>\n",
       "      <td>Eau de Parfum</td>\n",
       "      <td>59.99</td>\n",
       "      <td>US $59.99/ea</td>\n",
       "      <td>10.0</td>\n",
       "      <td>More than 10 available / 9 sold</td>\n",
       "      <td>9.0</td>\n",
       "      <td>May 23, 2024 01:23:05 PDT</td>\n",
       "      <td>USA, New Jersey, Hong Kong</td>\n",
       "    </tr>\n",
       "    <tr>\n",
       "      <th>124</th>\n",
       "      <td>As Show</td>\n",
       "      <td>J'adore 3.4 oz/100 ml Eau De Parfum EDP Women ...</td>\n",
       "      <td>Eau de Parfum</td>\n",
       "      <td>49.99</td>\n",
       "      <td>US $49.99</td>\n",
       "      <td>8.0</td>\n",
       "      <td>8 available / 22 sold</td>\n",
       "      <td>22.0</td>\n",
       "      <td>May 23, 2024 17:51:19 PDT</td>\n",
       "      <td>USA, New Jersey, Hong Kong</td>\n",
       "    </tr>\n",
       "    <tr>\n",
       "      <th>134</th>\n",
       "      <td>As Show</td>\n",
       "      <td>Flora Gorgeous Magnolia By-Gucci Eau De Parfum...</td>\n",
       "      <td>Eau de Parfum</td>\n",
       "      <td>54.99</td>\n",
       "      <td>US $54.99</td>\n",
       "      <td>NaN</td>\n",
       "      <td>Last One / 9 sold</td>\n",
       "      <td>9.0</td>\n",
       "      <td>May 23, 2024 18:59:45 PDT</td>\n",
       "      <td>Ithaca, New York, United States</td>\n",
       "    </tr>\n",
       "    <tr>\n",
       "      <th>142</th>\n",
       "      <td>As Show</td>\n",
       "      <td>3.3 oz 100 ml Flora Gorgeous Gardena Eau De Pa...</td>\n",
       "      <td>Eau de Parfum</td>\n",
       "      <td>49.99</td>\n",
       "      <td>US $49.99</td>\n",
       "      <td>4.0</td>\n",
       "      <td>4 available / 46 sold</td>\n",
       "      <td>46.0</td>\n",
       "      <td>May 24, 2024 02:32:48 PDT</td>\n",
       "      <td>HongKong, Hong Kong</td>\n",
       "    </tr>\n",
       "    <tr>\n",
       "      <th>208</th>\n",
       "      <td>As Show</td>\n",
       "      <td>Black Orchid By Tom Ford3.4 oz / 100 ml EDP fo...</td>\n",
       "      <td>Eau de Parfum</td>\n",
       "      <td>59.99</td>\n",
       "      <td>US $59.99/ea</td>\n",
       "      <td>5.0</td>\n",
       "      <td>5 available / 6 sold</td>\n",
       "      <td>6.0</td>\n",
       "      <td>May 24, 2024 00:33:12 PDT</td>\n",
       "      <td>USA,California, Hong Kong</td>\n",
       "    </tr>\n",
       "    <tr>\n",
       "      <th>393</th>\n",
       "      <td>As Show</td>\n",
       "      <td>Addict by Christian EDP Fragrances for Women 3...</td>\n",
       "      <td>EDP</td>\n",
       "      <td>59.99</td>\n",
       "      <td>US $59.99</td>\n",
       "      <td>10.0</td>\n",
       "      <td>More than 10 available / 20 sold</td>\n",
       "      <td>20.0</td>\n",
       "      <td>May 24, 2024 00:31:53 PDT</td>\n",
       "      <td>New York, United States, Hong Kong</td>\n",
       "    </tr>\n",
       "    <tr>\n",
       "      <th>463</th>\n",
       "      <td>As Show</td>\n",
       "      <td>Carmina By Creed EDP 75ml 2.5 oz Spray For Wom...</td>\n",
       "      <td>NaN</td>\n",
       "      <td>128.88</td>\n",
       "      <td>US $128.88</td>\n",
       "      <td>10.0</td>\n",
       "      <td>10 available / 21 sold</td>\n",
       "      <td>21.0</td>\n",
       "      <td>May 24, 2024 00:32:16 PDT</td>\n",
       "      <td>New Jersey, United States, Hong Kong</td>\n",
       "    </tr>\n",
       "    <tr>\n",
       "      <th>475</th>\n",
       "      <td>As Show</td>\n",
       "      <td>J'adore 3.4 oz/100 ml Eau De Parfum EDP Women ...</td>\n",
       "      <td>Eau de Parfum</td>\n",
       "      <td>78.99</td>\n",
       "      <td>US $78.99/ea</td>\n",
       "      <td>10.0</td>\n",
       "      <td>10 available / 7 sold</td>\n",
       "      <td>7.0</td>\n",
       "      <td>May 22, 2024 05:41:23 PDT</td>\n",
       "      <td>Warren, Michigan, United States</td>\n",
       "    </tr>\n",
       "    <tr>\n",
       "      <th>517</th>\n",
       "      <td>As Show</td>\n",
       "      <td>J'adore Eau De Parfum  3.4 oz EDP Spray Gift F...</td>\n",
       "      <td>Eau de Parfum</td>\n",
       "      <td>71.41</td>\n",
       "      <td>US $71.41/ea</td>\n",
       "      <td>5.0</td>\n",
       "      <td>5 available / 27 sold</td>\n",
       "      <td>27.0</td>\n",
       "      <td>May 20, 2024 07:43:07 PDT</td>\n",
       "      <td>California,United States, Hong Kong</td>\n",
       "    </tr>\n",
       "    <tr>\n",
       "      <th>854</th>\n",
       "      <td>As Show</td>\n",
       "      <td>L'Imperatrice 3 by D&amp;G 3.3 oz 100ml Eau de Toi...</td>\n",
       "      <td>Eau de Toilette</td>\n",
       "      <td>32.99</td>\n",
       "      <td>US $32.99/ea</td>\n",
       "      <td>4.0</td>\n",
       "      <td>4 available / 14 sold</td>\n",
       "      <td>14.0</td>\n",
       "      <td>May 24, 2024 10:01:28 PDT</td>\n",
       "      <td>HongKong, Hong Kong</td>\n",
       "    </tr>\n",
       "    <tr>\n",
       "      <th>968</th>\n",
       "      <td>As Show</td>\n",
       "      <td>Narciso Rodriguez Musc Noir Rose 3.3 Oz /100ml...</td>\n",
       "      <td>Eau de Parfum</td>\n",
       "      <td>64.88</td>\n",
       "      <td>US $64.88/ea</td>\n",
       "      <td>10.0</td>\n",
       "      <td>10 available / 22 sold</td>\n",
       "      <td>22.0</td>\n",
       "      <td>May 23, 2024 17:33:21 PDT</td>\n",
       "      <td>New York,United States, Hong Kong</td>\n",
       "    </tr>\n",
       "    <tr>\n",
       "      <th>982</th>\n",
       "      <td>As Show</td>\n",
       "      <td>Carmina By Creed2.5 oz / 75 ml Eau De Parfum F...</td>\n",
       "      <td>Eau de Parfum/Perfume</td>\n",
       "      <td>124.99</td>\n",
       "      <td>US $124.99</td>\n",
       "      <td>NaN</td>\n",
       "      <td>Last One / 3 sold</td>\n",
       "      <td>3.0</td>\n",
       "      <td>May 24, 2024 00:32:54 PDT</td>\n",
       "      <td>USA, New Jersey, Hong Kong</td>\n",
       "    </tr>\n",
       "  </tbody>\n",
       "</table>\n",
       "</div>"
      ],
      "text/plain": [
       "       brand                                              title  \\\n",
       "3    As Show  J'adore Parfum D'eau by Christian 3.4 oz EDP F...   \n",
       "124  As Show  J'adore 3.4 oz/100 ml Eau De Parfum EDP Women ...   \n",
       "134  As Show  Flora Gorgeous Magnolia By-Gucci Eau De Parfum...   \n",
       "142  As Show  3.3 oz 100 ml Flora Gorgeous Gardena Eau De Pa...   \n",
       "208  As Show  Black Orchid By Tom Ford3.4 oz / 100 ml EDP fo...   \n",
       "393  As Show  Addict by Christian EDP Fragrances for Women 3...   \n",
       "463  As Show  Carmina By Creed EDP 75ml 2.5 oz Spray For Wom...   \n",
       "475  As Show  J'adore 3.4 oz/100 ml Eau De Parfum EDP Women ...   \n",
       "517  As Show  J'adore Eau De Parfum  3.4 oz EDP Spray Gift F...   \n",
       "854  As Show  L'Imperatrice 3 by D&G 3.3 oz 100ml Eau de Toi...   \n",
       "968  As Show  Narciso Rodriguez Musc Noir Rose 3.3 Oz /100ml...   \n",
       "982  As Show  Carmina By Creed2.5 oz / 75 ml Eau De Parfum F...   \n",
       "\n",
       "                      type   price priceWithCurrency  available  \\\n",
       "3            Eau de Parfum   59.99      US $59.99/ea       10.0   \n",
       "124          Eau de Parfum   49.99         US $49.99        8.0   \n",
       "134          Eau de Parfum   54.99         US $54.99        NaN   \n",
       "142          Eau de Parfum   49.99         US $49.99        4.0   \n",
       "208          Eau de Parfum   59.99      US $59.99/ea        5.0   \n",
       "393                    EDP   59.99         US $59.99       10.0   \n",
       "463                    NaN  128.88        US $128.88       10.0   \n",
       "475          Eau de Parfum   78.99      US $78.99/ea       10.0   \n",
       "517          Eau de Parfum   71.41      US $71.41/ea        5.0   \n",
       "854        Eau de Toilette   32.99      US $32.99/ea        4.0   \n",
       "968          Eau de Parfum   64.88      US $64.88/ea       10.0   \n",
       "982  Eau de Parfum/Perfume  124.99        US $124.99        NaN   \n",
       "\n",
       "                        availableText  sold                lastUpdated  \\\n",
       "3     More than 10 available / 9 sold   9.0  May 23, 2024 01:23:05 PDT   \n",
       "124             8 available / 22 sold  22.0  May 23, 2024 17:51:19 PDT   \n",
       "134                 Last One / 9 sold   9.0  May 23, 2024 18:59:45 PDT   \n",
       "142             4 available / 46 sold  46.0  May 24, 2024 02:32:48 PDT   \n",
       "208              5 available / 6 sold   6.0  May 24, 2024 00:33:12 PDT   \n",
       "393  More than 10 available / 20 sold  20.0  May 24, 2024 00:31:53 PDT   \n",
       "463            10 available / 21 sold  21.0  May 24, 2024 00:32:16 PDT   \n",
       "475             10 available / 7 sold   7.0  May 22, 2024 05:41:23 PDT   \n",
       "517             5 available / 27 sold  27.0  May 20, 2024 07:43:07 PDT   \n",
       "854             4 available / 14 sold  14.0  May 24, 2024 10:01:28 PDT   \n",
       "968            10 available / 22 sold  22.0  May 23, 2024 17:33:21 PDT   \n",
       "982                 Last One / 3 sold   3.0  May 24, 2024 00:32:54 PDT   \n",
       "\n",
       "                             itemLocation  \n",
       "3              USA, New Jersey, Hong Kong  \n",
       "124            USA, New Jersey, Hong Kong  \n",
       "134       Ithaca, New York, United States  \n",
       "142                   HongKong, Hong Kong  \n",
       "208             USA,California, Hong Kong  \n",
       "393    New York, United States, Hong Kong  \n",
       "463  New Jersey, United States, Hong Kong  \n",
       "475       Warren, Michigan, United States  \n",
       "517   California,United States, Hong Kong  \n",
       "854                   HongKong, Hong Kong  \n",
       "968     New York,United States, Hong Kong  \n",
       "982            USA, New Jersey, Hong Kong  "
      ]
     },
     "execution_count": 15,
     "metadata": {},
     "output_type": "execute_result"
    }
   ],
   "source": [
    "women_df[women_df['brand'] == 'As Show']"
   ]
  },
  {
   "cell_type": "code",
   "execution_count": 16,
   "id": "c382259e-6a55-48aa-9850-9b4e045893f6",
   "metadata": {},
   "outputs": [],
   "source": [
    "women_df['type'].fillna('Eau de Parfum', inplace=True)"
   ]
  },
  {
   "cell_type": "code",
   "execution_count": 17,
   "id": "a12dafa1-7fef-4baa-afcf-14b1cffdca10",
   "metadata": {},
   "outputs": [
    {
     "data": {
      "text/plain": [
       "brand    0\n",
       "type     0\n",
       "dtype: int64"
      ]
     },
     "execution_count": 17,
     "metadata": {},
     "output_type": "execute_result"
    }
   ],
   "source": [
    "women_df[['brand', 'type']].isnull().sum()"
   ]
  },
  {
   "cell_type": "code",
   "execution_count": 18,
   "id": "ccc92d84-7e4b-49a1-b32b-de83f91c4873",
   "metadata": {},
   "outputs": [
    {
     "data": {
      "text/plain": [
       "array(['2 available ', '5 available ', 'More than 10 available ',\n",
       "       'More than 10 available', '8 available ', 'Out of Stock ',\n",
       "       '6 available ', 'Last One ', '300 available ', '4 available ',\n",
       "       'Limited quantity available ', '7 available ', '10 available ',\n",
       "       '9 available ', '60 available ', '3 available ', '68 available ',\n",
       "       '50 available ', '37 available ', '106 available ',\n",
       "       '110 available ', '149 available ', '183 available ',\n",
       "       '131 available ', '2 available', 'nan', '71 available ',\n",
       "       '45 available ', '194 available ', '64 available ',\n",
       "       '141 available ', '76 available ', '13 available ',\n",
       "       '417 available ', '31 available ', '175 available ',\n",
       "       '216 available ', '132 available ', '204 available ',\n",
       "       '107 available ', '35 available ', '23 available ',\n",
       "       '48 available ', '251 available ', '235 available ',\n",
       "       '557 available ', '11 available ', '96 available ',\n",
       "       '26 available ', '15 available ', '196 available ',\n",
       "       '123 available ', '89 available ', '32 available ',\n",
       "       '408 available ', '117 available ', '189 available ',\n",
       "       '174 available ', '36 available ', '72 available ',\n",
       "       '22 available ', '17 available ', '62 available ', '21 available ',\n",
       "       '3 lots available (10 items per lot) ', '51 available ',\n",
       "       '73 available ', '114 available ', '33 available ',\n",
       "       '127 available ', '234 available ', '29 available ',\n",
       "       '70 available ', '105 available ', '44 available ',\n",
       "       '331 available ', '16 available ', '413 available ',\n",
       "       '18 available ', '165 available ', '93 available ',\n",
       "       '25 available ', '112 available ', '4 available', '38 available ',\n",
       "       '86 available ', '145 available ', '120 available ',\n",
       "       '67 available ', '52 available ', '19 available ', '5 available',\n",
       "       '92 available ', '103 available ', '159 available ',\n",
       "       '252 available ', '20 available ', '47 available ',\n",
       "       '200 available ', '245 available ', '28 available ',\n",
       "       '153 available ', '34 available ',\n",
       "       'More than 10 lots available (3 items per lot) ', '100 available ',\n",
       "       '500 available ', '24 available ', '82 available ',\n",
       "       '46 available ', '2 disponibles ', '12 available ',\n",
       "       '56 available ', '214 available ', '111 available ',\n",
       "       '95 available ', '41 available ',\n",
       "       '4 lots available (8 items per lot) '], dtype=object)"
      ]
     },
     "execution_count": 18,
     "metadata": {},
     "output_type": "execute_result"
    }
   ],
   "source": [
    "split_val_unique = women_df['availableText'].astype(str).str.split('/').str[0].unique()\n",
    "split_val_unique"
   ]
  },
  {
   "cell_type": "code",
   "execution_count": 19,
   "id": "080e06d7-2f03-42c2-b9f8-daf3c64b727a",
   "metadata": {},
   "outputs": [],
   "source": [
    "def extract_number(text):\n",
    "    # check special cases\n",
    "    if 'Out of Stock' in text or 'nan' in text or 'Limited quantity available' in text:\n",
    "        return  0\n",
    "    elif 'Last One' in text:\n",
    "        return 1\n",
    "    # extact number from string\n",
    "    numbers = []\n",
    "    current_numb = ''\n",
    "    for char in text:\n",
    "        if char.isdigit():\n",
    "            current_numb += char\n",
    "        elif current_numb:\n",
    "            numbers.append(int(current_numb))\n",
    "            current_numb = ''\n",
    "        # if there are 2 numbers in the string like this case\n",
    "        #(More than 10 lots available (3 items per lot)) we have to multiply the 2 numbers\n",
    "    if len(numbers) == 1:\n",
    "        return numbers[0]\n",
    "    else:\n",
    "        result = 1\n",
    "        for number in numbers:\n",
    "                result *= number\n",
    "        return result\n",
    "extract_available = women_df['availableText'].astype(str).str.split('/').str[0]\n",
    "women_df['correct_available'] = extract_available.apply(extract_number)\n",
    "        "
   ]
  },
  {
   "cell_type": "code",
   "execution_count": 20,
   "id": "9fdb78a5-a4e1-466a-8d42-005ef4c542ce",
   "metadata": {},
   "outputs": [
    {
     "data": {
      "text/plain": [
       "array([  2,   5,  10,   8,   0,   6,   1, 300,   4,   7,   9,  60,   3,\n",
       "        68,  50,  37, 106, 110, 149, 183, 131,  71,  45, 194,  64, 141,\n",
       "        76,  13, 417,  31, 175, 216, 132, 204, 107,  35,  23,  48, 251,\n",
       "       235, 557,  11,  96,  26,  15, 196, 123,  89,  32, 408, 117, 189,\n",
       "       174,  36,  72,  22,  17,  62,  21,  30,  51,  73, 114,  33, 127,\n",
       "       234,  29,  70, 105,  44, 331,  16, 413,  18, 165,  93,  25, 112,\n",
       "        38,  86, 145, 120,  67,  52,  19,  92, 103, 159, 252,  20,  47,\n",
       "       200, 245,  28, 153,  34, 100, 500,  24,  82,  46,  12,  56, 214,\n",
       "       111,  95,  41], dtype=int64)"
      ]
     },
     "execution_count": 20,
     "metadata": {},
     "output_type": "execute_result"
    }
   ],
   "source": [
    "women_df['correct_available'].unique()"
   ]
  },
  {
   "cell_type": "code",
   "execution_count": 21,
   "id": "1f0c9218-c649-4d41-8123-ce465616f870",
   "metadata": {},
   "outputs": [
    {
     "data": {
      "text/plain": [
       "0       2.0\n",
       "1       5.0\n",
       "2      10.0\n",
       "3      10.0\n",
       "4      10.0\n",
       "       ... \n",
       "995    10.0\n",
       "996    33.0\n",
       "997     2.0\n",
       "998     3.0\n",
       "999     4.0\n",
       "Name: available, Length: 1000, dtype: float64"
      ]
     },
     "execution_count": 21,
     "metadata": {},
     "output_type": "execute_result"
    }
   ],
   "source": [
    "women_df['available'].fillna(0)"
   ]
  },
  {
   "cell_type": "code",
   "execution_count": 22,
   "id": "a8165812-88b7-43d3-8a8f-cbff998542f6",
   "metadata": {},
   "outputs": [],
   "source": [
    "women_df['correct_available'] = women_df['correct_available'].astype(float)"
   ]
  },
  {
   "cell_type": "code",
   "execution_count": 23,
   "id": "dc51d20f-dff3-424f-a8a4-a8523fdab08e",
   "metadata": {},
   "outputs": [
    {
     "data": {
      "text/plain": [
       "86.9"
      ]
     },
     "execution_count": 23,
     "metadata": {},
     "output_type": "execute_result"
    }
   ],
   "source": [
    "matches = np.sum(women_df['available'] == women_df['correct_available'])\n",
    "total = len(women_df['available'])\n",
    "match_percentage = (matches / total) * 100\n",
    "match_percentage"
   ]
  },
  {
   "cell_type": "code",
   "execution_count": 24,
   "id": "1d8bc594-0ae6-479e-8ea8-bb94a669c163",
   "metadata": {},
   "outputs": [
    {
     "data": {
      "text/plain": [
       "131"
      ]
     },
     "execution_count": 24,
     "metadata": {},
     "output_type": "execute_result"
    }
   ],
   "source": [
    "np.sum(women_df['available'] != women_df['correct_available'])"
   ]
  },
  {
   "cell_type": "code",
   "execution_count": 25,
   "id": "cdff65af-964b-4b46-b8df-390632d32f3a",
   "metadata": {},
   "outputs": [
    {
     "data": {
      "text/plain": [
       "(1000, 11)"
      ]
     },
     "execution_count": 25,
     "metadata": {},
     "output_type": "execute_result"
    }
   ],
   "source": [
    "women_df.shape"
   ]
  },
  {
   "cell_type": "code",
   "execution_count": 26,
   "id": "1682023f-3696-4f72-9aa5-afb1d6110ec6",
   "metadata": {},
   "outputs": [
    {
     "data": {
      "text/html": [
       "<div>\n",
       "<style scoped>\n",
       "    .dataframe tbody tr th:only-of-type {\n",
       "        vertical-align: middle;\n",
       "    }\n",
       "\n",
       "    .dataframe tbody tr th {\n",
       "        vertical-align: top;\n",
       "    }\n",
       "\n",
       "    .dataframe thead th {\n",
       "        text-align: right;\n",
       "    }\n",
       "</style>\n",
       "<table border=\"1\" class=\"dataframe\">\n",
       "  <thead>\n",
       "    <tr style=\"text-align: right;\">\n",
       "      <th></th>\n",
       "      <th>available</th>\n",
       "      <th>correct_available</th>\n",
       "    </tr>\n",
       "  </thead>\n",
       "  <tbody>\n",
       "    <tr>\n",
       "      <th>6</th>\n",
       "      <td>NaN</td>\n",
       "      <td>0.0</td>\n",
       "    </tr>\n",
       "    <tr>\n",
       "      <th>8</th>\n",
       "      <td>NaN</td>\n",
       "      <td>1.0</td>\n",
       "    </tr>\n",
       "    <tr>\n",
       "      <th>358</th>\n",
       "      <td>NaN</td>\n",
       "      <td>30.0</td>\n",
       "    </tr>\n",
       "    <tr>\n",
       "      <th>856</th>\n",
       "      <td>NaN</td>\n",
       "      <td>2.0</td>\n",
       "    </tr>\n",
       "    <tr>\n",
       "      <th>990</th>\n",
       "      <td>NaN</td>\n",
       "      <td>32.0</td>\n",
       "    </tr>\n",
       "  </tbody>\n",
       "</table>\n",
       "</div>"
      ],
      "text/plain": [
       "     available  correct_available\n",
       "6          NaN                0.0\n",
       "8          NaN                1.0\n",
       "358        NaN               30.0\n",
       "856        NaN                2.0\n",
       "990        NaN               32.0"
      ]
     },
     "execution_count": 26,
     "metadata": {},
     "output_type": "execute_result"
    }
   ],
   "source": [
    "comparison = women_df['available'] != women_df['correct_available']\n",
    "mismatched_rows = women_df[comparison]\n",
    "unique_mismatches = mismatched_rows[['available', 'correct_available']].drop_duplicates()\n",
    "unique_mismatches"
   ]
  },
  {
   "cell_type": "code",
   "execution_count": 27,
   "id": "d2be711b-a686-45f7-8611-3e6f96cc6e54",
   "metadata": {},
   "outputs": [],
   "source": [
    "# after a long analysis we can notice that the mismatched values due to NaN in available\n",
    "#and since we extracted the correct_available so we drop the column available"
   ]
  },
  {
   "cell_type": "code",
   "execution_count": 28,
   "id": "369e3bb5-5041-4e6c-8208-891e621c4889",
   "metadata": {},
   "outputs": [],
   "source": [
    "women_df['correct_available'] = women_df['correct_available'].astype(int)"
   ]
  },
  {
   "cell_type": "code",
   "execution_count": 29,
   "id": "aa2f850a-1cf2-44e5-8a3b-06d8817a0218",
   "metadata": {},
   "outputs": [],
   "source": [
    "women_df.drop(columns=['available'], inplace=True)"
   ]
  },
  {
   "cell_type": "code",
   "execution_count": 30,
   "id": "ab289922-ffdb-41b8-ab91-1736d45bfbb6",
   "metadata": {
    "scrolled": true
   },
   "outputs": [
    {
     "data": {
      "text/plain": [
       "array([' 393 sold', ' 40 sold', ' 35 sold', ' 9 sold', nan, ' 184 sold',\n",
       "       ' 18 sold', ' 258 sold', ' 251 sold', ' 174 sold', ' 77 sold',\n",
       "       ' 51 sold', ' 20 sold', ' 505 sold', ' 94 sold', ' 234 sold',\n",
       "       ' 34 sold', ' 43 sold', ' 1,613 sold', ' 218 sold', ' 1 sold',\n",
       "       ' 38 sold', ' 25 sold', ' 183 sold', ' 71 sold', ' 126 sold',\n",
       "       ' 54 sold', ' 29 sold', ' 1,571 sold', ' 291 sold', ' 406 sold',\n",
       "       ' 147 sold', ' 3 sold', ' 37 sold', ' 11 sold', ' 59 sold',\n",
       "       ' 68 sold', ' 157 sold', ' 4 sold', ' 80 sold', ' 441 sold',\n",
       "       ' 16 sold', ' 21 sold', ' 49 sold', ' 128 sold', ' 60 sold',\n",
       "       ' 179 sold', ' 208 sold', ' 166 sold', ' 87 sold', ' 287 sold',\n",
       "       ' 243 sold', ' 56 sold', ' 404 sold', ' 102 sold', ' 130 sold',\n",
       "       ' 1,089 sold', ' 19 sold', ' 110 sold', ' 41 sold', ' 118 sold',\n",
       "       ' 15 sold', ' 1,498 sold', ' 1,129 sold', ' 14 sold', ' 193 sold',\n",
       "       ' 2 sold', ' 288 sold', ' 190 sold', ' 266 sold', ' 10 sold',\n",
       "       ' 45 sold', ' 443 sold', ' 17 sold', ' 302 sold', ' 528 sold',\n",
       "       ' 256 sold', ' 155 sold', ' 539 sold', ' 327 sold', ' 1,484 sold',\n",
       "       ' 12 sold', ' 255 sold', ' 57 sold', ' 493 sold', ' 66 sold',\n",
       "       ' 61 sold', ' 434 sold', ' 108 sold', ' 245 sold', ' 909 sold',\n",
       "       ' 5,587 sold', ' 23 sold', ' 4,308 sold', ' 114 sold',\n",
       "       ' 10,268 sold', ' 123 sold', ' 89 sold', ' 187 sold', ' 47 sold',\n",
       "       ' 1,999 sold', ' 2,846 sold', ' 48 sold', ' 127 sold', ' 232 sold',\n",
       "       ' 303 sold', ' 8 sold', ' 22 sold', ' 5,263 sold', ' 755 sold',\n",
       "       ' 472 sold', ' 315 sold', ' 333 sold', ' 109 sold', ' 490 sold',\n",
       "       ' 290 sold', ' 13 sold', ' 7 sold', ' 2,515 sold', ' 46 sold',\n",
       "       ' 2,715 sold', ' 821 sold', ' 3,185 sold', ' 299 sold', ' 39 sold',\n",
       "       ' 33 sold', ' 4,332 sold', ' 73 sold', ' 1,130 sold', ' 136 sold',\n",
       "       ' 2,209 sold', ' 5,901 sold', ' 252 sold', ' 369 sold',\n",
       "       ' 931 sold', ' 220 sold', ' 141 sold', ' 1,107 sold',\n",
       "       ' 10,259 sold', ' 796 sold', ' 69 sold', ' 416 sold', ' 417 sold',\n",
       "       ' 7,018 sold', ' 6 sold', ' 74 sold', ' 1,790 sold', ' 99 sold',\n",
       "       ' 3,525 sold', ' 223 sold', ' 4,123 sold', ' 6,191 sold',\n",
       "       ' 30 sold', ' 117 sold', ' 3,080 sold', ' 602 sold', ' 7,558 sold',\n",
       "       ' 42 sold', ' 7,331 sold', ' 655 sold', ' 3,759 sold', ' 280 sold',\n",
       "       ' 355 sold', ' 62 sold', ' 620 sold', ' 332 sold', ' 2,361 sold',\n",
       "       ' 3,152 sold', ' 1,804 sold', ' 601 sold', ' 238 sold',\n",
       "       ' 149 sold', ' 2,590 sold', ' 131 sold', ' 169 sold', ' 370 sold',\n",
       "       ' 5 sold', ' 738 sold', ' 65 sold', ' 334 sold', ' 3,379 sold',\n",
       "       ' 1,647 sold', ' 5,314 sold', ' 296 sold', ' 129 sold',\n",
       "       ' 201 sold', ' 122 sold', ' 3,009 sold', ' 36 sold', ' 44 sold',\n",
       "       ' 770 sold', ' 1,385 sold', ' 26 sold', ' 32 sold', ' 5,558 sold',\n",
       "       ' 347 sold', ' 278 sold', ' 152 sold', ' 216 sold', ' 150 sold',\n",
       "       ' 344 sold', ' 84 sold', ' 1,833 sold', ' 725 sold', ' 551 sold',\n",
       "       ' 24 sold', ' 953 sold', ' 4,977 sold', ' 27 sold', ' 886 sold',\n",
       "       ' 889 sold', ' 161 sold', ' 230 sold', ' 1,372 sold',\n",
       "       ' 3,319 sold', ' 5,971 sold', ' 5,349 sold', ' 298 sold',\n",
       "       ' 626 sold', ' 120 sold', ' 121 sold', ' 561 sold', ' 79 sold',\n",
       "       ' 2,499 sold', ' 1,692 sold', ' 1,652 sold', ' 292 sold',\n",
       "       ' 607 sold', ' 52 sold', ' 17,854 sold', ' 3,466 sold', ' 83 sold',\n",
       "       ' 349 sold', ' 103 sold', ' 3,215 sold', ' 1,396 sold',\n",
       "       ' 135 sold', ' 15,897 sold', ' 2,048 sold', ' 67 sold',\n",
       "       ' 968 sold', ' 91 sold', ' 28 sold', ' 53 sold', ' 7,773 sold',\n",
       "       ' 559 sold', ' 6,077 sold', ' 107 sold', ' 984 sold', ' 162 sold',\n",
       "       ' 888 sold', ' 757 sold', ' 540 sold', ' 1,905 sold',\n",
       "       ' 2,250 sold', ' 2,838 sold', ' 920 sold', ' 88 sold', ' 392 sold',\n",
       "       ' 70 sold', ' 373 sold', ' 651 sold', ' 112 sold', ' 536 sold',\n",
       "       ' 1,927 sold', ' 104 sold', ' 563 sold', ' 413 sold',\n",
       "       ' 2,663 sold', ' 2,156 sold', ' 2,311 sold', ' 145 sold',\n",
       "       ' 85 sold', ' 171 sold', ' 1,966 sold', ' 1,947 sold',\n",
       "       ' 4,775 sold', ' 1,832 sold', ' 2,436 sold', ' 204 sold',\n",
       "       ' 1,954 sold', ' 430 sold', ' 1,576 sold', ' 75 sold',\n",
       "       ' 1,522 sold', ' 549 sold', ' 271 sold', ' 5,628 sold',\n",
       "       ' 337 sold', ' 254 sold', ' 339 sold', ' 4,492 sold', ' 423 sold',\n",
       "       ' 2,761 sold', ' 221 sold', ' 2,188 sold', ' 2,996 sold',\n",
       "       ' 742 sold', ' 263 sold', ' 1,926 sold', ' 3,954 sold',\n",
       "       ' 1,516 sold', ' 226 sold', ' 458 sold', ' 101 sold', ' 64 sold',\n",
       "       ' 119 sold', ' 81 sold', ' 5,255 sold', ' 2,472 sold',\n",
       "       ' 5,107 sold', ' 196 sold', ' 635 sold', ' 31 sold', ' 1,454 sold',\n",
       "       ' 4,912 sold', ' 2,724 sold', ' 1,053 sold', ' 1,429 sold',\n",
       "       ' 3,555 sold', ' 1,616 sold', ' 139 sold', ' 294 sold',\n",
       "       ' 2,477 sold', ' 1,337 sold', ' 537 sold', ' 1,585 sold',\n",
       "       ' 229 sold', ' 3,860 sold', ' 915 sold', ' 506 sold', ' 235 sold',\n",
       "       ' 435 sold', ' 517 sold', ' 847 sold', ' 1,338 sold', ' 272 sold',\n",
       "       ' 98 sold', ' 478 sold', ' 401 sold', ' 146 sold', ' 78 sold',\n",
       "       ' 111 sold', ' 2,177 sold', ' 82 sold', ' 1,386 sold', ' 432 sold',\n",
       "       ' 154 sold', ' 137 sold', ' 1,678 sold', ' 58 sold', ' 379 sold',\n",
       "       ' 170 sold', ' 460 sold', ' 1,224 sold', ' 144 sold',\n",
       "       ' 4,845 sold', ' 591 sold', ' 2,503 sold', ' 705 sold', ' 50 sold',\n",
       "       ' 116 sold', ' 3,088 sold', ' 767 sold', ' 182 sold', ' 545 sold',\n",
       "       ' 92 sold', ' 491 sold', ' 2,002 sold', ' 188 sold', ' 360 sold',\n",
       "       ' 233 sold', ' 1,059 sold', ' 1,960 sold', ' 1,286 sold',\n",
       "       ' 5,166 sold', ' 178 sold', ' 409 sold', ' 3,584 sold',\n",
       "       ' 160 sold', ' 998 sold', ' 2,143 sold', ' 268 sold', ' 868 sold',\n",
       "       ' 177 sold', ' 3 vendidos', ' 1,909 sold', ' 1,347 sold',\n",
       "       ' 336 sold', ' 124 sold', ' 163 sold', ' 194 sold', ' 90 sold',\n",
       "       ' 1,355 sold', ' 662 sold', ' 55 sold', ' 425 sold', ' 533 sold',\n",
       "       ' 285 sold', ' 96 sold', ' 541 sold', ' 380 sold', ' 3,510 sold',\n",
       "       ' 279 sold', ' 1,239 sold', ' 95 sold', ' 283 sold', ' 678 sold',\n",
       "       ' 856 sold', ' 275 sold', ' 4,936 sold', ' 175 sold', ' 269 sold',\n",
       "       ' 615 sold'], dtype=object)"
      ]
     },
     "execution_count": 30,
     "metadata": {},
     "output_type": "execute_result"
    }
   ],
   "source": [
    "split_sold_unique = women_df['availableText'].astype(str).str.split('/').str[1].unique()\n",
    "split_sold_unique"
   ]
  },
  {
   "cell_type": "code",
   "execution_count": 31,
   "id": "29578452-5c6a-4f9d-94a2-24b217812e26",
   "metadata": {},
   "outputs": [],
   "source": [
    "split_sold = women_df['availableText'].astype(str).str.split('/').str[1].str.strip()\n",
    "sold_numbers = []\n",
    "for text in split_sold:\n",
    "    if pd.notna(text):\n",
    "        sold_number = text.split(' ')[0]\n",
    "        sold_numbers.append(int(sold_number.replace(',', '')))\n",
    "    else:\n",
    "        sold_numbers.append(0)\n",
    "women_df['correct_sold'] = sold_numbers\n"
   ]
  },
  {
   "cell_type": "code",
   "execution_count": 32,
   "id": "51ac55a0-0dd8-4bc1-9e6d-72e5236d2004",
   "metadata": {
    "scrolled": true
   },
   "outputs": [
    {
     "data": {
      "text/html": [
       "<div>\n",
       "<style scoped>\n",
       "    .dataframe tbody tr th:only-of-type {\n",
       "        vertical-align: middle;\n",
       "    }\n",
       "\n",
       "    .dataframe tbody tr th {\n",
       "        vertical-align: top;\n",
       "    }\n",
       "\n",
       "    .dataframe thead th {\n",
       "        text-align: right;\n",
       "    }\n",
       "</style>\n",
       "<table border=\"1\" class=\"dataframe\">\n",
       "  <thead>\n",
       "    <tr style=\"text-align: right;\">\n",
       "      <th></th>\n",
       "      <th>brand</th>\n",
       "      <th>title</th>\n",
       "      <th>type</th>\n",
       "      <th>price</th>\n",
       "      <th>priceWithCurrency</th>\n",
       "      <th>availableText</th>\n",
       "      <th>sold</th>\n",
       "      <th>lastUpdated</th>\n",
       "      <th>itemLocation</th>\n",
       "      <th>correct_available</th>\n",
       "      <th>correct_sold</th>\n",
       "    </tr>\n",
       "  </thead>\n",
       "  <tbody>\n",
       "    <tr>\n",
       "      <th>0</th>\n",
       "      <td>Carolina Herrera</td>\n",
       "      <td>Good Girl by Carolina Herrera 2.7 oz Eau De Pa...</td>\n",
       "      <td>Eau de Parfum</td>\n",
       "      <td>43.99</td>\n",
       "      <td>US $43.99/ea</td>\n",
       "      <td>2 available / 393 sold</td>\n",
       "      <td>393.0</td>\n",
       "      <td>May 23, 2024 10:43:50 PDT</td>\n",
       "      <td>Thomasville, Alabama, United States</td>\n",
       "      <td>2</td>\n",
       "      <td>393</td>\n",
       "    </tr>\n",
       "    <tr>\n",
       "      <th>1</th>\n",
       "      <td>As Shown</td>\n",
       "      <td>Parfums de Marly Delina La Rosee Eau de Parfum...</td>\n",
       "      <td>Eau de Parfum</td>\n",
       "      <td>79.99</td>\n",
       "      <td>US $79.99</td>\n",
       "      <td>5 available / 40 sold</td>\n",
       "      <td>40.0</td>\n",
       "      <td>May 24, 2024 00:15:48 PDT</td>\n",
       "      <td>New Jersey, Hong Kong</td>\n",
       "      <td>5</td>\n",
       "      <td>40</td>\n",
       "    </tr>\n",
       "    <tr>\n",
       "      <th>2</th>\n",
       "      <td>PRADA</td>\n",
       "      <td>PRADA Paradoxe by Prada EDP 3.0oz/90ml Spray P...</td>\n",
       "      <td>Eau de Parfum</td>\n",
       "      <td>59.99</td>\n",
       "      <td>US $59.99</td>\n",
       "      <td>More than 10 available / 35 sold</td>\n",
       "      <td>35.0</td>\n",
       "      <td>May 14, 2024 20:54:25 PDT</td>\n",
       "      <td>Orange, New Jersey, United States</td>\n",
       "      <td>10</td>\n",
       "      <td>35</td>\n",
       "    </tr>\n",
       "    <tr>\n",
       "      <th>3</th>\n",
       "      <td>As Show</td>\n",
       "      <td>J'adore Parfum D'eau by Christian 3.4 oz EDP F...</td>\n",
       "      <td>Eau de Parfum</td>\n",
       "      <td>59.99</td>\n",
       "      <td>US $59.99/ea</td>\n",
       "      <td>More than 10 available / 9 sold</td>\n",
       "      <td>9.0</td>\n",
       "      <td>May 23, 2024 01:23:05 PDT</td>\n",
       "      <td>USA, New Jersey, Hong Kong</td>\n",
       "      <td>10</td>\n",
       "      <td>9</td>\n",
       "    </tr>\n",
       "    <tr>\n",
       "      <th>4</th>\n",
       "      <td>Khadlaj</td>\n",
       "      <td>Shiyaaka for Men EDP Spray 100ML (3.4 FL.OZ) B...</td>\n",
       "      <td>Eau de Parfum</td>\n",
       "      <td>29.99</td>\n",
       "      <td>US $29.99/ea</td>\n",
       "      <td>More than 10 available</td>\n",
       "      <td>NaN</td>\n",
       "      <td>NaN</td>\n",
       "      <td>Little Ferry, New Jersey, United States</td>\n",
       "      <td>10</td>\n",
       "      <td>0</td>\n",
       "    </tr>\n",
       "    <tr>\n",
       "      <th>5</th>\n",
       "      <td>Viktor &amp; Rolf</td>\n",
       "      <td>Flowerbomb by Viktor &amp; Rolf 3.4 oz 100ML Eau D...</td>\n",
       "      <td>Eau de Parfum</td>\n",
       "      <td>51.99</td>\n",
       "      <td>US $51.99/ea</td>\n",
       "      <td>8 available / 184 sold</td>\n",
       "      <td>184.0</td>\n",
       "      <td>May 23, 2024 10:44:09 PDT</td>\n",
       "      <td>Warren, Michigan, United States</td>\n",
       "      <td>8</td>\n",
       "      <td>184</td>\n",
       "    </tr>\n",
       "    <tr>\n",
       "      <th>6</th>\n",
       "      <td>AS SHOW</td>\n",
       "      <td>PRADA Paradoxe by Prada EDP 3.0oz/90ml Spray P...</td>\n",
       "      <td>Eau de Parfum</td>\n",
       "      <td>58.99</td>\n",
       "      <td>US $58.99</td>\n",
       "      <td>Out of Stock / 18 sold</td>\n",
       "      <td>18.0</td>\n",
       "      <td>May 24, 2024 00:15:13 PDT</td>\n",
       "      <td>Astoria, New York, United States</td>\n",
       "      <td>0</td>\n",
       "      <td>18</td>\n",
       "    </tr>\n",
       "    <tr>\n",
       "      <th>7</th>\n",
       "      <td>Versace</td>\n",
       "      <td>Versace Bright Crystal Women EDT 6.7 oz 200 ml...</td>\n",
       "      <td>Eau de Toilette</td>\n",
       "      <td>52.79</td>\n",
       "      <td>US $52.79/ea</td>\n",
       "      <td>6 available / 258 sold</td>\n",
       "      <td>258.0</td>\n",
       "      <td>May 21, 2024 06:41:13 PDT</td>\n",
       "      <td>Dexter, Michigan, United States</td>\n",
       "      <td>6</td>\n",
       "      <td>258</td>\n",
       "    </tr>\n",
       "    <tr>\n",
       "      <th>8</th>\n",
       "      <td>Versace</td>\n",
       "      <td>Versace Bright Crystal by Versace for Women ED...</td>\n",
       "      <td>Eau de Toilette</td>\n",
       "      <td>29.99</td>\n",
       "      <td>US $29.99</td>\n",
       "      <td>Last One / 251 sold</td>\n",
       "      <td>251.0</td>\n",
       "      <td>May 23, 2024 22:39:02 PDT</td>\n",
       "      <td>Jamaica, New York, United States</td>\n",
       "      <td>1</td>\n",
       "      <td>251</td>\n",
       "    </tr>\n",
       "    <tr>\n",
       "      <th>9</th>\n",
       "      <td>Lattafa</td>\n",
       "      <td>Fakhar by Lattafa Eau de Parfum 3.4 oz / 100 m...</td>\n",
       "      <td>Eau de Parfum</td>\n",
       "      <td>22.75</td>\n",
       "      <td>US $22.75/ea</td>\n",
       "      <td>More than 10 available / 174 sold</td>\n",
       "      <td>174.0</td>\n",
       "      <td>May 24, 2024 00:25:04 PDT</td>\n",
       "      <td>New York, New York, United States</td>\n",
       "      <td>10</td>\n",
       "      <td>174</td>\n",
       "    </tr>\n",
       "  </tbody>\n",
       "</table>\n",
       "</div>"
      ],
      "text/plain": [
       "              brand                                              title  \\\n",
       "0  Carolina Herrera  Good Girl by Carolina Herrera 2.7 oz Eau De Pa...   \n",
       "1          As Shown  Parfums de Marly Delina La Rosee Eau de Parfum...   \n",
       "2             PRADA  PRADA Paradoxe by Prada EDP 3.0oz/90ml Spray P...   \n",
       "3           As Show  J'adore Parfum D'eau by Christian 3.4 oz EDP F...   \n",
       "4           Khadlaj  Shiyaaka for Men EDP Spray 100ML (3.4 FL.OZ) B...   \n",
       "5     Viktor & Rolf  Flowerbomb by Viktor & Rolf 3.4 oz 100ML Eau D...   \n",
       "6           AS SHOW  PRADA Paradoxe by Prada EDP 3.0oz/90ml Spray P...   \n",
       "7           Versace  Versace Bright Crystal Women EDT 6.7 oz 200 ml...   \n",
       "8           Versace  Versace Bright Crystal by Versace for Women ED...   \n",
       "9           Lattafa  Fakhar by Lattafa Eau de Parfum 3.4 oz / 100 m...   \n",
       "\n",
       "              type  price priceWithCurrency  \\\n",
       "0    Eau de Parfum  43.99      US $43.99/ea   \n",
       "1    Eau de Parfum  79.99         US $79.99   \n",
       "2    Eau de Parfum  59.99         US $59.99   \n",
       "3    Eau de Parfum  59.99      US $59.99/ea   \n",
       "4    Eau de Parfum  29.99      US $29.99/ea   \n",
       "5    Eau de Parfum  51.99      US $51.99/ea   \n",
       "6    Eau de Parfum  58.99         US $58.99   \n",
       "7  Eau de Toilette  52.79      US $52.79/ea   \n",
       "8  Eau de Toilette  29.99         US $29.99   \n",
       "9    Eau de Parfum  22.75      US $22.75/ea   \n",
       "\n",
       "                       availableText   sold                lastUpdated  \\\n",
       "0             2 available / 393 sold  393.0  May 23, 2024 10:43:50 PDT   \n",
       "1              5 available / 40 sold   40.0  May 24, 2024 00:15:48 PDT   \n",
       "2   More than 10 available / 35 sold   35.0  May 14, 2024 20:54:25 PDT   \n",
       "3    More than 10 available / 9 sold    9.0  May 23, 2024 01:23:05 PDT   \n",
       "4             More than 10 available    NaN                        NaN   \n",
       "5             8 available / 184 sold  184.0  May 23, 2024 10:44:09 PDT   \n",
       "6             Out of Stock / 18 sold   18.0  May 24, 2024 00:15:13 PDT   \n",
       "7             6 available / 258 sold  258.0  May 21, 2024 06:41:13 PDT   \n",
       "8                Last One / 251 sold  251.0  May 23, 2024 22:39:02 PDT   \n",
       "9  More than 10 available / 174 sold  174.0  May 24, 2024 00:25:04 PDT   \n",
       "\n",
       "                              itemLocation  correct_available  correct_sold  \n",
       "0      Thomasville, Alabama, United States                  2           393  \n",
       "1                    New Jersey, Hong Kong                  5            40  \n",
       "2        Orange, New Jersey, United States                 10            35  \n",
       "3               USA, New Jersey, Hong Kong                 10             9  \n",
       "4  Little Ferry, New Jersey, United States                 10             0  \n",
       "5          Warren, Michigan, United States                  8           184  \n",
       "6         Astoria, New York, United States                  0            18  \n",
       "7          Dexter, Michigan, United States                  6           258  \n",
       "8         Jamaica, New York, United States                  1           251  \n",
       "9        New York, New York, United States                 10           174  "
      ]
     },
     "execution_count": 32,
     "metadata": {},
     "output_type": "execute_result"
    }
   ],
   "source": [
    "women_df.head(10)"
   ]
  },
  {
   "cell_type": "code",
   "execution_count": 33,
   "id": "60681be7-0660-45aa-b3c1-ea2b1cb5a795",
   "metadata": {},
   "outputs": [],
   "source": [
    "women_df.drop(columns=['sold', 'availableText'], inplace=True)"
   ]
  },
  {
   "cell_type": "code",
   "execution_count": 34,
   "id": "a04a7e27-d0ce-4ef5-a613-52e1aa3563a7",
   "metadata": {},
   "outputs": [
    {
     "data": {
      "text/plain": [
       "brand                 0\n",
       "title                 0\n",
       "type                  0\n",
       "price                 0\n",
       "priceWithCurrency     0\n",
       "lastUpdated          73\n",
       "itemLocation          0\n",
       "correct_available     0\n",
       "correct_sold          0\n",
       "dtype: int64"
      ]
     },
     "execution_count": 34,
     "metadata": {},
     "output_type": "execute_result"
    }
   ],
   "source": [
    "women_df.isnull().sum()"
   ]
  },
  {
   "cell_type": "code",
   "execution_count": 35,
   "id": "d8d0cb97-30ce-464a-b854-a13e66a33a79",
   "metadata": {},
   "outputs": [
    {
     "data": {
      "text/html": [
       "<div>\n",
       "<style scoped>\n",
       "    .dataframe tbody tr th:only-of-type {\n",
       "        vertical-align: middle;\n",
       "    }\n",
       "\n",
       "    .dataframe tbody tr th {\n",
       "        vertical-align: top;\n",
       "    }\n",
       "\n",
       "    .dataframe thead th {\n",
       "        text-align: right;\n",
       "    }\n",
       "</style>\n",
       "<table border=\"1\" class=\"dataframe\">\n",
       "  <thead>\n",
       "    <tr style=\"text-align: right;\">\n",
       "      <th></th>\n",
       "      <th>brand</th>\n",
       "      <th>title</th>\n",
       "      <th>type</th>\n",
       "      <th>price</th>\n",
       "      <th>priceWithCurrency</th>\n",
       "      <th>lastUpdated</th>\n",
       "      <th>itemLocation</th>\n",
       "      <th>correct_available</th>\n",
       "      <th>correct_sold</th>\n",
       "    </tr>\n",
       "  </thead>\n",
       "  <tbody>\n",
       "    <tr>\n",
       "      <th>4</th>\n",
       "      <td>Khadlaj</td>\n",
       "      <td>Shiyaaka for Men EDP Spray 100ML (3.4 FL.OZ) B...</td>\n",
       "      <td>Eau de Parfum</td>\n",
       "      <td>29.99</td>\n",
       "      <td>US $29.99/ea</td>\n",
       "      <td>NaN</td>\n",
       "      <td>Little Ferry, New Jersey, United States</td>\n",
       "      <td>10</td>\n",
       "      <td>0</td>\n",
       "    </tr>\n",
       "    <tr>\n",
       "      <th>21</th>\n",
       "      <td>~ CREPE ERASE ~</td>\n",
       "      <td>CREPE ERASE-BODY FIRM ADVANCED BODY REPAIR TRE...</td>\n",
       "      <td>~ BODY FIRM ADVANCED BODY REPAIR TREATMENT ~</td>\n",
       "      <td>29.99</td>\n",
       "      <td>US $29.99</td>\n",
       "      <td>NaN</td>\n",
       "      <td>Melrose Park, Illinois, United States</td>\n",
       "      <td>10</td>\n",
       "      <td>1</td>\n",
       "    </tr>\n",
       "    <tr>\n",
       "      <th>36</th>\n",
       "      <td>Parfums de Marly</td>\n",
       "      <td>PDM PARFUMS DE MARLY DELINA EXCLUSIF 1.5ml .05...</td>\n",
       "      <td>Parfum</td>\n",
       "      <td>12.00</td>\n",
       "      <td>US $12.00</td>\n",
       "      <td>NaN</td>\n",
       "      <td>Albany, New York, United States</td>\n",
       "      <td>10</td>\n",
       "      <td>59</td>\n",
       "    </tr>\n",
       "    <tr>\n",
       "      <th>70</th>\n",
       "      <td>Maison Margiela</td>\n",
       "      <td>Maison Margiela Replica Sailing Day Eau de Toi...</td>\n",
       "      <td>Eau de Toilette</td>\n",
       "      <td>48.88</td>\n",
       "      <td>US $48.88</td>\n",
       "      <td>NaN</td>\n",
       "      <td>College Point, New York, United States</td>\n",
       "      <td>10</td>\n",
       "      <td>14</td>\n",
       "    </tr>\n",
       "    <tr>\n",
       "      <th>79</th>\n",
       "      <td>Dossier</td>\n",
       "      <td>Dossier Ambery Vanilla Eau de Parfum. Size: 50...</td>\n",
       "      <td>Eau de Parfum</td>\n",
       "      <td>19.00</td>\n",
       "      <td>US $19.00/ea</td>\n",
       "      <td>NaN</td>\n",
       "      <td>Los Angeles, California, United States</td>\n",
       "      <td>10</td>\n",
       "      <td>10</td>\n",
       "    </tr>\n",
       "    <tr>\n",
       "      <th>...</th>\n",
       "      <td>...</td>\n",
       "      <td>...</td>\n",
       "      <td>...</td>\n",
       "      <td>...</td>\n",
       "      <td>...</td>\n",
       "      <td>...</td>\n",
       "      <td>...</td>\n",
       "      <td>...</td>\n",
       "      <td>...</td>\n",
       "    </tr>\n",
       "    <tr>\n",
       "      <th>946</th>\n",
       "      <td>Lattafa</td>\n",
       "      <td>Lattafa Yara Women's Floral Perfume 5mL Sample...</td>\n",
       "      <td>Perfume</td>\n",
       "      <td>9.99</td>\n",
       "      <td>US $9.99</td>\n",
       "      <td>NaN</td>\n",
       "      <td>Sunnyside, New York, United States</td>\n",
       "      <td>7</td>\n",
       "      <td>13</td>\n",
       "    </tr>\n",
       "    <tr>\n",
       "      <th>974</th>\n",
       "      <td>Parfums de Marly</td>\n",
       "      <td>Parfums de Marly Delina 2.5 fl oz Women's EDP ...</td>\n",
       "      <td>Eau de Parfum</td>\n",
       "      <td>80.00</td>\n",
       "      <td>US $80.00</td>\n",
       "      <td>NaN</td>\n",
       "      <td>Pittsburgh, Pennsylvania, United States</td>\n",
       "      <td>10</td>\n",
       "      <td>2</td>\n",
       "    </tr>\n",
       "    <tr>\n",
       "      <th>978</th>\n",
       "      <td>Tom Ford</td>\n",
       "      <td>Tom Ford Black Orchid Eau De Parfum Sample Siz...</td>\n",
       "      <td>Eau de Parfum</td>\n",
       "      <td>11.49</td>\n",
       "      <td>US $11.49</td>\n",
       "      <td>NaN</td>\n",
       "      <td>Burlington, Iowa, United States</td>\n",
       "      <td>10</td>\n",
       "      <td>64</td>\n",
       "    </tr>\n",
       "    <tr>\n",
       "      <th>983</th>\n",
       "      <td>Burberry</td>\n",
       "      <td>Burberry Her ELIXIR DE PARFUM EDP Intense-Delu...</td>\n",
       "      <td>Eau de Parfum</td>\n",
       "      <td>13.00</td>\n",
       "      <td>US $13.00</td>\n",
       "      <td>NaN</td>\n",
       "      <td>Chino, California, United States</td>\n",
       "      <td>0</td>\n",
       "      <td>0</td>\n",
       "    </tr>\n",
       "    <tr>\n",
       "      <th>989</th>\n",
       "      <td>DKNY</td>\n",
       "      <td>Be Extra Delicious By DKNY 0.24oz EDP Women's ...</td>\n",
       "      <td>Eau de Parfum</td>\n",
       "      <td>14.95</td>\n",
       "      <td>US $14.95</td>\n",
       "      <td>NaN</td>\n",
       "      <td>Fort Lauderdale, Florida, United States</td>\n",
       "      <td>19</td>\n",
       "      <td>5</td>\n",
       "    </tr>\n",
       "  </tbody>\n",
       "</table>\n",
       "<p>73 rows × 9 columns</p>\n",
       "</div>"
      ],
      "text/plain": [
       "                brand                                              title  \\\n",
       "4             Khadlaj  Shiyaaka for Men EDP Spray 100ML (3.4 FL.OZ) B...   \n",
       "21    ~ CREPE ERASE ~  CREPE ERASE-BODY FIRM ADVANCED BODY REPAIR TRE...   \n",
       "36   Parfums de Marly  PDM PARFUMS DE MARLY DELINA EXCLUSIF 1.5ml .05...   \n",
       "70    Maison Margiela  Maison Margiela Replica Sailing Day Eau de Toi...   \n",
       "79            Dossier  Dossier Ambery Vanilla Eau de Parfum. Size: 50...   \n",
       "..                ...                                                ...   \n",
       "946           Lattafa  Lattafa Yara Women's Floral Perfume 5mL Sample...   \n",
       "974  Parfums de Marly  Parfums de Marly Delina 2.5 fl oz Women's EDP ...   \n",
       "978          Tom Ford  Tom Ford Black Orchid Eau De Parfum Sample Siz...   \n",
       "983          Burberry  Burberry Her ELIXIR DE PARFUM EDP Intense-Delu...   \n",
       "989              DKNY  Be Extra Delicious By DKNY 0.24oz EDP Women's ...   \n",
       "\n",
       "                                             type  price priceWithCurrency  \\\n",
       "4                                   Eau de Parfum  29.99      US $29.99/ea   \n",
       "21   ~ BODY FIRM ADVANCED BODY REPAIR TREATMENT ~  29.99         US $29.99   \n",
       "36                                         Parfum  12.00         US $12.00   \n",
       "70                                Eau de Toilette  48.88         US $48.88   \n",
       "79                                  Eau de Parfum  19.00      US $19.00/ea   \n",
       "..                                            ...    ...               ...   \n",
       "946                                       Perfume   9.99          US $9.99   \n",
       "974                                 Eau de Parfum  80.00         US $80.00   \n",
       "978                                 Eau de Parfum  11.49         US $11.49   \n",
       "983                                 Eau de Parfum  13.00         US $13.00   \n",
       "989                                 Eau de Parfum  14.95         US $14.95   \n",
       "\n",
       "    lastUpdated                             itemLocation  correct_available  \\\n",
       "4           NaN  Little Ferry, New Jersey, United States                 10   \n",
       "21          NaN    Melrose Park, Illinois, United States                 10   \n",
       "36          NaN          Albany, New York, United States                 10   \n",
       "70          NaN   College Point, New York, United States                 10   \n",
       "79          NaN   Los Angeles, California, United States                 10   \n",
       "..          ...                                      ...                ...   \n",
       "946         NaN       Sunnyside, New York, United States                  7   \n",
       "974         NaN  Pittsburgh, Pennsylvania, United States                 10   \n",
       "978         NaN          Burlington, Iowa, United States                 10   \n",
       "983         NaN         Chino, California, United States                  0   \n",
       "989         NaN  Fort Lauderdale, Florida, United States                 19   \n",
       "\n",
       "     correct_sold  \n",
       "4               0  \n",
       "21              1  \n",
       "36             59  \n",
       "70             14  \n",
       "79             10  \n",
       "..            ...  \n",
       "946            13  \n",
       "974             2  \n",
       "978            64  \n",
       "983             0  \n",
       "989             5  \n",
       "\n",
       "[73 rows x 9 columns]"
      ]
     },
     "execution_count": 35,
     "metadata": {},
     "output_type": "execute_result"
    }
   ],
   "source": [
    "cond = women_df['lastUpdated'].isna()\n",
    "women_df[cond]"
   ]
  },
  {
   "cell_type": "code",
   "execution_count": 36,
   "id": "c41d75b7-90c4-4210-b699-346b8d2fccc3",
   "metadata": {},
   "outputs": [],
   "source": [
    "women_df['lastUpdated'].fillna('', inplace=True)"
   ]
  },
  {
   "cell_type": "code",
   "execution_count": 37,
   "id": "f76d4452-90b2-429b-b7eb-e9b02005b789",
   "metadata": {},
   "outputs": [
    {
     "data": {
      "text/plain": [
       "brand                0\n",
       "title                0\n",
       "type                 0\n",
       "price                0\n",
       "priceWithCurrency    0\n",
       "lastUpdated          0\n",
       "itemLocation         0\n",
       "correct_available    0\n",
       "correct_sold         0\n",
       "dtype: int64"
      ]
     },
     "execution_count": 37,
     "metadata": {},
     "output_type": "execute_result"
    }
   ],
   "source": [
    "women_df.isnull().sum()"
   ]
  },
  {
   "cell_type": "code",
   "execution_count": 38,
   "id": "5ad998f3-ed31-46dd-9a22-03502c8f6626",
   "metadata": {},
   "outputs": [
    {
     "data": {
      "text/plain": [
       "1"
      ]
     },
     "execution_count": 38,
     "metadata": {},
     "output_type": "execute_result"
    }
   ],
   "source": [
    "women_df.duplicated().sum()"
   ]
  },
  {
   "cell_type": "code",
   "execution_count": 39,
   "id": "df24fd00-1b8e-4029-8497-ae48d0c13a6a",
   "metadata": {},
   "outputs": [],
   "source": [
    "women_df.drop_duplicates(inplace=True)"
   ]
  },
  {
   "cell_type": "code",
   "execution_count": 40,
   "id": "9cd3dae8-429d-45e9-af0d-97117bf820d1",
   "metadata": {},
   "outputs": [
    {
     "data": {
      "text/plain": [
       "0"
      ]
     },
     "execution_count": 40,
     "metadata": {},
     "output_type": "execute_result"
    }
   ],
   "source": [
    "women_df.duplicated().sum()"
   ]
  },
  {
   "cell_type": "code",
   "execution_count": 41,
   "id": "97897b8a-5a88-4276-81b7-a34eea83f850",
   "metadata": {},
   "outputs": [
    {
     "data": {
      "text/plain": [
       "array(['US $43.99/ea', 'US $79.99', 'US $59.99', 'US $59.99/ea',\n",
       "       'US $29.99/ea', 'US $51.99/ea', 'US $58.99', 'US $52.79/ea',\n",
       "       'US $29.99', 'US $22.75/ea', 'US $39.99/ea', 'US $64.99/ea',\n",
       "       'US $60.99/ea', 'US $43.49/ea', 'US $29.20/ea', 'US $13.00',\n",
       "       'US $39.69/ea', 'US $11.00', 'US $27.00/ea', 'US $16.27/ea',\n",
       "       'US $54.95', 'US $49.99/ea', 'US $84.99', 'US $53.99', 'US $99.99',\n",
       "       'US $40.92/ea', 'US $22.90/ea', 'US $42.00/ea', 'US $44.88/ea',\n",
       "       'US $66.99', 'US $129.99', 'US $22.99', 'US $12.00', 'US $32.95',\n",
       "       'US $31.05/ea', 'US $32.20/ea', 'US $17.90/ea', 'US $29.75',\n",
       "       'US $19.99/ea', 'US $42.88', 'US $100.99', 'US $26.05/ea',\n",
       "       'US $54.99/ea', 'US $47.49/ea', 'US $43.99', 'US $32.00',\n",
       "       'US $31.50/ea', 'US $42.99/ea', 'US $98.99', 'US $39.99',\n",
       "       'US $27.99/ea', 'US $15.49/ea', 'US $23.25/ea', 'US $16.26/ea',\n",
       "       'US $49.68/ea', 'US $27.90/ea', 'US $36.79/ea', 'US $48.88',\n",
       "       'US $55.99/ea', 'US $42.98', 'US $15.98/ea', 'US $19.45',\n",
       "       'US $20.49/ea', 'US $31.00/ea', 'US $24.99/ea', 'US $19.00/ea',\n",
       "       'US $14.00', 'US $34.00', 'US $49.00', 'US $30.99/ea',\n",
       "       'US $16.63/ea', 'US $60.00', 'US $42.99', 'US $19.00',\n",
       "       'US $25.27/ea', 'US $29.90/ea', 'US $20.93/ea', 'US $30.98',\n",
       "       'US $41.50/ea', 'US $30.79', 'US $21.27', 'US $15.89',\n",
       "       'US $10.99/ea', 'US $37.88/ea', 'US $30.95/ea', 'US $25.23/ea',\n",
       "       'US $23.88/ea', 'US $18.50', 'US $20.45/ea', 'US $12.78/ea',\n",
       "       'US $33.99', 'US $14.75/ea', 'US $33.52/ea', 'US $28.00/ea',\n",
       "       'US $9.70', 'US $44.99', 'US $33.00', 'US $33.80/ea',\n",
       "       'US $22.99/ea', 'US $49.99', 'US $17.89/ea', 'US $35.09/ea',\n",
       "       'US $25.57/ea', 'US $16.44/ea', 'US $7.99/ea', 'US $36.65',\n",
       "       'US $54.99', 'US $12.49/ea', 'US $9.25/ea', 'US $50.68/ea',\n",
       "       'US $42.00', 'US $38.92/ea', 'US $33.38/ea', 'US $29.65',\n",
       "       'US $18.63/ea', 'US $28.05/ea', 'US $55.10', 'US $99.99/ea',\n",
       "       'US $19.75', 'US $34.08/ea', 'US $12.95/ea', 'US $30.00',\n",
       "       'US $12.36/ea', 'US $43.69/ea', 'US $35.39/ea', 'US $34.28/ea',\n",
       "       'US $43.32/ea', 'US $41.99', 'US $29.49/ea', 'US $41.99/ea',\n",
       "       'US $36.59/ea', 'US $33.99/ea', 'US $49.00/ea', 'US $119.99/ea',\n",
       "       'US $26.99/ea', 'US $15.99/ea', 'US $19.68', 'US $42.28',\n",
       "       'US $26.99', 'US $109.95/ea', 'US $23.75/ea', 'US $18.99/ea',\n",
       "       'US $33.00/ea', 'US $41.49', 'US $32.12', 'US $55.39', 'US $36.99',\n",
       "       'US $28.99/ea', 'US $34.59', 'US $39.47', 'US $29.90',\n",
       "       'US $20.42/ea', 'US $25.42/ea', 'US $62.99/ea', 'US $35.08/ea',\n",
       "       'US $95.99', 'US $30.17', 'US $37.19/ea', 'US $18.79',\n",
       "       'US $40.00/ea', 'US $20.44/ea', 'US $44.99/ea', 'US $14.89',\n",
       "       'US $23.95/ea', 'US $52.78', 'US $54.90', 'US $43.33/ea',\n",
       "       'US $29.45/ea', 'US $20.00/ea', 'US $20.48/ea', 'US $22.09',\n",
       "       'US $34.38/ea', 'US $24.24/ea', 'US $21.95/ea', 'US $39.89/ea',\n",
       "       'US $18.94/ea', 'US $24.51', 'US $32.99/ea', 'US $16.95',\n",
       "       'US $35.73/ea', 'US $34.98/ea', 'US $59.96', 'US $64.88/ea',\n",
       "       'US $69.99/ea', 'US $25.69/ea', 'US $49.68', 'US $33.92',\n",
       "       'US $34.99/ea', 'US $30.45/ea', 'US $67.50', 'US $5.99',\n",
       "       'US $15.00/ea', 'US $15.99', 'US $79.72/ea', 'US $39.98',\n",
       "       'US $44.95', 'US $60.37', 'US $53.99/ea', 'US $23.90',\n",
       "       'US $26.43/ea', 'US $29.95/ea', 'US $15.52/ea', 'US $45.99',\n",
       "       'US $27.31', 'US $38.99/ea', 'US $45.92/ea', 'US $12.99',\n",
       "       'US $58.61/ea', 'US $86.99/ea', 'US $54.00', 'US $5.99/ea',\n",
       "       'US $24.39/ea', 'US $21.98', 'US $76.99/ea', 'US $33.89/ea',\n",
       "       'US $8.99', 'US $18.95/ea', 'US $20.79', 'US $89.99/ea',\n",
       "       'US $20.31/ea', 'US $34.60/ea', 'US $38.14/ea', 'US $16.89/ea',\n",
       "       'US $49.81', 'US $29.95', 'US $85.56/ea', 'US $119.00',\n",
       "       'US $27.26/ea', 'US $48.99/ea', 'US $28.99', 'US $37.99',\n",
       "       'US $20.99', 'US $86.99', 'US $29.55/ea', 'US $9.99',\n",
       "       'US $26.90/ea', 'US $44.78', 'US $14.50', 'US $14.95', 'US $28.15',\n",
       "       'US $14.74/ea', 'US $35.99/ea', 'US $19.05', 'US $29.54/ea',\n",
       "       'US $47.80/ea', 'US $13.95/ea', 'US $43.00', 'US $22.51/ea',\n",
       "       'US $9.92', 'US $47.65/ea', 'US $41.58/ea', 'US $16.87/ea',\n",
       "       'US $59.40/ea', 'US $12.99/ea', 'US $11.66/ea', 'US $43.15/ea',\n",
       "       'US $15.80/ea', 'US $15.00', 'US $17.52/ea', 'US $19.83/ea',\n",
       "       'US $17.49/ea', 'US $19.12/ea', 'US $30.90', 'US $13.89',\n",
       "       'US $12.74', 'US $48.00', 'US $26.66/ea', 'US $33.34/ea',\n",
       "       'US $12.00/ea', 'US $17.57/ea', 'US $20.00', 'US $38.68/ea',\n",
       "       'US $14.45/ea', 'US $15.88', 'US $32.13/ea', 'US $9.95/ea',\n",
       "       'US $25.25/ea', 'US $22.25/ea', 'US $21.99/ea', 'US $63.99',\n",
       "       'US $39.95', 'US $15.77/ea', 'US $17.00', 'US $24.50', 'US $14.40',\n",
       "       'US $69.99', 'US $63.00', 'US $25.99', 'US $23.99', 'US $25.00',\n",
       "       'US $15.42/ea', 'US $28.89/ea', 'US $33.59/ea', 'US $64.99',\n",
       "       'US $11.88', 'US $25.66/ea', 'US $52.99', 'US $26.35/ea',\n",
       "       'US $118.99', 'US $7.95/ea', 'US $24.98/ea', 'US $64.54/ea',\n",
       "       'US $34.77', 'US $52.99/ea', 'US $24.79/ea', 'US $269.00',\n",
       "       'US $5.50/ea', 'US $50.73/ea', 'US $26.33/ea', 'US $46.44/ea',\n",
       "       'US $43.98', 'US $23.97/ea', 'US $44.95/ea', 'US $32.49/ea',\n",
       "       'US $14.99', 'US $29.26/ea', 'US $19.10/ea', 'US $19.39/ea',\n",
       "       'US $23.42/ea', 'US $15.31/ea', 'US $174.99', 'US $50.00/ea',\n",
       "       'US $15.25/ea', 'US $34.43/ea', 'US $42.04/ea', 'US $10.00/ea',\n",
       "       'US $27.06/ea', 'US $55.99', 'US $69.98/ea', 'US $17.25/ea',\n",
       "       'US $43.82/ea', 'US $38.00', 'US $29.97/ea', 'US $52.39/ea',\n",
       "       'US $24.95', 'US $18.75', 'US $72.00/ea', 'US $18.14/ea',\n",
       "       'US $14.70', 'US $34.93', 'US $28.90', 'US $128.88', 'US $9.94/ea',\n",
       "       'US $38.89/ea', 'US $74.99', 'US $19.41/ea', 'US $27.98',\n",
       "       'US $26.15/ea', 'US $26.00', 'US $40.99', 'US $76.50/ea',\n",
       "       'US $7.99', 'US $78.99/ea', 'US $40.00', 'US $21.69',\n",
       "       'US $57.63/ea', 'US $27.25', 'US $23.68/ea', 'US $99.00',\n",
       "       'US $23.00', 'US $34.36/ea', 'US $44.98', 'US $38.99',\n",
       "       'US $28.60/ea', 'US $45.11', 'US $50.07/ea', 'US $34.95/ea',\n",
       "       'US $46.94', 'US $17.99/ea', 'US $29.00/ea', 'US $11.99/ea',\n",
       "       'US $50.00', 'US $20.67/ea', 'US $21.64/ea', 'US $56.97',\n",
       "       'US $29.89/ea', 'US $13.76/ea', 'US $9.89', 'US $11.99',\n",
       "       'US $24.74/ea', 'US $71.41/ea', 'US $80.99', 'US $24.04/ea',\n",
       "       'US $28.68/ea', 'US $34.99', 'US $27.99', 'US $20.25/ea',\n",
       "       'US $6.99', 'US $32.88/ea', 'US $55.73/ea', 'US $16.82/ea',\n",
       "       'US $18.35/ea', 'US $4.95/ea', 'US $19.90', 'US $9.99/ea',\n",
       "       'US $19.95', 'US $16.93/ea', 'US $11.95/ea', 'US $19.54/ea',\n",
       "       'US $150.00', 'US $44.49/ea', 'US $14.90/ea', 'US $31.23',\n",
       "       'US $8.98', 'US $37.99/ea', 'US $18.99', 'US $14.75', 'US $59.32',\n",
       "       'US $285.00', 'US $13.37', 'US $38.49/ea', 'US $25.98/ea',\n",
       "       'US $9.25', 'US $67.99', 'US $16.20/ea', 'US $31.41/ea',\n",
       "       'US $13.99/ea', 'US $61.99', 'US $13.95', 'US $31.95/ea',\n",
       "       'US $49.51/ea', 'US $59.50/ea', 'US $69.58', 'US $59.23/ea',\n",
       "       'US $35.79/ea', 'US $30.89/ea', 'US $99.95', 'US $14.94/ea',\n",
       "       'US $29.06/ea', 'US $140.00', 'US $1.99/ea', 'US $26.14/ea',\n",
       "       'US $13.75', 'US $16.30/ea', 'US $18.04', 'US $13.88/ea',\n",
       "       'US $34.09/ea', 'US $55.63', 'US $27.25/ea', 'US $25.47/ea',\n",
       "       'US $22.95/ea', 'US $18.62/ea', 'US $64.94', 'US $14.89/ea',\n",
       "       'US $19.24/ea', 'US $18.87', 'US $19.53/ea', 'US $54.42',\n",
       "       'US $25.99/ea', 'US $24.77/ea', 'US $18.76', 'US $18.90/ea',\n",
       "       'US $14.49/ea', 'US $26.12/ea', 'US $15.27/ea', 'US $18.00',\n",
       "       'US $13.99', 'US $19.88/ea', 'US $24.02/ea', 'US $32.91/ea',\n",
       "       'US $40.63/ea', 'US $26.40/ea', 'US $27.54/ea', 'US $26.81/ea',\n",
       "       'US $38.76/ea', 'US $58.50', 'US $34.87/ea', 'US $28.00',\n",
       "       'US $16.99', 'US $17.79/ea', 'US $22.48/ea', 'US $24.99',\n",
       "       'US $27.50', 'US $45.93/ea', 'US $4.95', 'US $105.95',\n",
       "       'US $22.53/ea', 'US $39.45/ea', 'US $20.71/ea', 'US $21.00/ea',\n",
       "       'US $37.00', 'US $23.98/ea', 'US $25.95', 'US $25.56',\n",
       "       'US $103.99', 'US $72.72/ea', 'US $15.89/ea', 'US $54.90/ea',\n",
       "       'US $19.98', 'US $7.50', 'US $67.49', 'US $43.30/ea',\n",
       "       'US $22.97/ea', 'US $66.69/ea', 'US $31.14/ea', 'US $67.98/ea',\n",
       "       'US $26.95', 'US $10.00', 'US $37.96/ea', 'US $8.00',\n",
       "       'US $42.90/ea', 'US $134.50', 'US $58.98/ea', 'US $24.00',\n",
       "       'US $34.33/ea', 'US $54.51', 'US $30.49/ea', 'US $38.69/ea',\n",
       "       'US $10.35/ea', 'US $21.90/ea', 'US $22.45', 'US $25.46',\n",
       "       'US $55.88', 'US $100.00', 'US $13.44/ea', 'US $73.99',\n",
       "       'US $34.85', 'US $47.66/ea', 'US $58.08/ea', 'US $108.99/ea',\n",
       "       'US $299.99', 'US $53.57', 'US $48.90/ea', 'US $58.69',\n",
       "       'US $9.49/ea', 'US $18.88/ea', 'US $84.97', 'US $69.89/ea',\n",
       "       'US $125.00', 'US $275.00', 'US $76.99', 'US $13.50/ea',\n",
       "       'US $88.00/ea', 'US $15.97', 'US $16.98/ea', 'US $18.95',\n",
       "       'US $27.89', 'US $33.75', 'US $87.52', 'US $19.73/ea', 'US $17.89',\n",
       "       'US $37.02/ea', 'US $12.95', 'US $36.94/ea', 'US $39.95/ea',\n",
       "       'US $89.99', 'US $34.76', 'US $90.00/ea', 'US $59.98/ea',\n",
       "       'US $39.55/ea', 'US $65.95', 'US $63.25/ea', 'US $50.99',\n",
       "       'US $18.81/ea', 'US $26.31', 'US $11.94/ea', 'US $55.00',\n",
       "       'US $32.99', 'US $66.95', 'US $48.93', 'US $27.00', 'US $45.98/ea',\n",
       "       'US $5.65/ea', 'US $8.34', 'US $84.00', 'US $28.85/ea',\n",
       "       'US $22.23/ea', 'US $20.30/ea', 'US $39.82/ea', 'US $55.66/ea',\n",
       "       'US $42.69/ea', 'US $22.36/ea', 'US $38.00/ea', 'US $31.87/ea',\n",
       "       'US $29.50', 'US $8.99/ea', 'US $76.34/ea', 'US $37.63/ea',\n",
       "       'US $29.25/ea', 'US $23.89/ea', 'US $9.39', 'US $32.39',\n",
       "       'US $29.75/ea', 'US $94.99/ea', 'US $36.68/ea', 'US $7.20/ea',\n",
       "       'US $139.99', 'US $79.95', 'US $29.60/ea', 'US $38.01/ea',\n",
       "       'US $32.00/ea', 'US $95.00', 'US $58.62/ea', 'US $20.93',\n",
       "       'US $85.67', 'US $74.99/ea', 'US $67.14/ea', 'US $52.38',\n",
       "       'US $22.00/ea', 'US $54.95/ea', 'US $115.22', 'US $29.66',\n",
       "       'US $11.49', 'US $19.75/ea', 'US $65.55/ea', 'US $56.99/ea',\n",
       "       'US $28.40/ea', 'US $58.94/ea', 'US $45.98', 'US $12.15/ea',\n",
       "       'US $13.12/ea', 'US $16.89', 'US $19.48', 'US $33.86/ea',\n",
       "       'US $24.50/ea', 'US $65.50', 'US $29.79/ea', 'US $50.22/ea',\n",
       "       'US $31.01', 'US $10.98', 'US $41.34/ea', 'US $9.90', 'US $21.00',\n",
       "       'US $34.17/ea', 'US $19.30', 'US $70.00', 'US $40.99/ea',\n",
       "       'US $33.50', 'US $28.18/ea', 'US $23.99/ea', 'US $43.39',\n",
       "       'US $84.98/ea', 'US $54.00/ea', 'US $20.95', 'US $16.99/ea',\n",
       "       'US $11.89', 'US $13.75/ea', 'US $35.88/ea', 'US $92.95/ea',\n",
       "       'US $29.53/ea', 'US $80.00', 'US $64.58', 'US $23.95',\n",
       "       'US $20.87/ea', 'US $39.00/ea', 'US $22.55', 'US $124.99',\n",
       "       'US $44.97/ea', 'US $47.69/ea', 'US $24.65', 'US $50.75',\n",
       "       'US $19.99', 'US $57.85/ea', 'US $30.96', 'US $14.99/ea'],\n",
       "      dtype=object)"
      ]
     },
     "execution_count": 41,
     "metadata": {},
     "output_type": "execute_result"
    }
   ],
   "source": [
    "women_df['priceWithCurrency'].unique()"
   ]
  },
  {
   "cell_type": "code",
   "execution_count": 42,
   "id": "eeeca9fd-4c2e-49b8-a568-2b6bf64be532",
   "metadata": {},
   "outputs": [
    {
     "data": {
      "text/plain": [
       "0      43.99\n",
       "1      79.99\n",
       "2      59.99\n",
       "3      59.99\n",
       "4      29.99\n",
       "       ...  \n",
       "995    13.89\n",
       "996    57.85\n",
       "997    30.96\n",
       "998    53.99\n",
       "999    14.99\n",
       "Name: price_in_$, Length: 999, dtype: float64"
      ]
     },
     "execution_count": 42,
     "metadata": {},
     "output_type": "execute_result"
    }
   ],
   "source": [
    "def extract_price(text):\n",
    "    if pd.isna(text):\n",
    "        return 0\n",
    "    else:\n",
    "        price_str = text.replace('US $', '').replace('/ea', '')\n",
    "        return float(price_str)\n",
    "women_df['price_in_$'] = women_df['priceWithCurrency'].apply(extract_price)\n",
    "women_df['price_in_$']"
   ]
  },
  {
   "cell_type": "code",
   "execution_count": 43,
   "id": "9eee0904-22f3-4004-b5a6-840c5aa70e2b",
   "metadata": {},
   "outputs": [
    {
     "data": {
      "text/html": [
       "<div>\n",
       "<style scoped>\n",
       "    .dataframe tbody tr th:only-of-type {\n",
       "        vertical-align: middle;\n",
       "    }\n",
       "\n",
       "    .dataframe tbody tr th {\n",
       "        vertical-align: top;\n",
       "    }\n",
       "\n",
       "    .dataframe thead th {\n",
       "        text-align: right;\n",
       "    }\n",
       "</style>\n",
       "<table border=\"1\" class=\"dataframe\">\n",
       "  <thead>\n",
       "    <tr style=\"text-align: right;\">\n",
       "      <th></th>\n",
       "      <th>brand</th>\n",
       "      <th>title</th>\n",
       "      <th>type</th>\n",
       "      <th>price</th>\n",
       "      <th>priceWithCurrency</th>\n",
       "      <th>lastUpdated</th>\n",
       "      <th>itemLocation</th>\n",
       "      <th>correct_available</th>\n",
       "      <th>correct_sold</th>\n",
       "      <th>price_in_$</th>\n",
       "    </tr>\n",
       "  </thead>\n",
       "  <tbody>\n",
       "    <tr>\n",
       "      <th>0</th>\n",
       "      <td>Carolina Herrera</td>\n",
       "      <td>Good Girl by Carolina Herrera 2.7 oz Eau De Pa...</td>\n",
       "      <td>Eau de Parfum</td>\n",
       "      <td>43.99</td>\n",
       "      <td>US $43.99/ea</td>\n",
       "      <td>May 23, 2024 10:43:50 PDT</td>\n",
       "      <td>Thomasville, Alabama, United States</td>\n",
       "      <td>2</td>\n",
       "      <td>393</td>\n",
       "      <td>43.99</td>\n",
       "    </tr>\n",
       "    <tr>\n",
       "      <th>1</th>\n",
       "      <td>As Shown</td>\n",
       "      <td>Parfums de Marly Delina La Rosee Eau de Parfum...</td>\n",
       "      <td>Eau de Parfum</td>\n",
       "      <td>79.99</td>\n",
       "      <td>US $79.99</td>\n",
       "      <td>May 24, 2024 00:15:48 PDT</td>\n",
       "      <td>New Jersey, Hong Kong</td>\n",
       "      <td>5</td>\n",
       "      <td>40</td>\n",
       "      <td>79.99</td>\n",
       "    </tr>\n",
       "    <tr>\n",
       "      <th>2</th>\n",
       "      <td>PRADA</td>\n",
       "      <td>PRADA Paradoxe by Prada EDP 3.0oz/90ml Spray P...</td>\n",
       "      <td>Eau de Parfum</td>\n",
       "      <td>59.99</td>\n",
       "      <td>US $59.99</td>\n",
       "      <td>May 14, 2024 20:54:25 PDT</td>\n",
       "      <td>Orange, New Jersey, United States</td>\n",
       "      <td>10</td>\n",
       "      <td>35</td>\n",
       "      <td>59.99</td>\n",
       "    </tr>\n",
       "    <tr>\n",
       "      <th>3</th>\n",
       "      <td>As Show</td>\n",
       "      <td>J'adore Parfum D'eau by Christian 3.4 oz EDP F...</td>\n",
       "      <td>Eau de Parfum</td>\n",
       "      <td>59.99</td>\n",
       "      <td>US $59.99/ea</td>\n",
       "      <td>May 23, 2024 01:23:05 PDT</td>\n",
       "      <td>USA, New Jersey, Hong Kong</td>\n",
       "      <td>10</td>\n",
       "      <td>9</td>\n",
       "      <td>59.99</td>\n",
       "    </tr>\n",
       "    <tr>\n",
       "      <th>4</th>\n",
       "      <td>Khadlaj</td>\n",
       "      <td>Shiyaaka for Men EDP Spray 100ML (3.4 FL.OZ) B...</td>\n",
       "      <td>Eau de Parfum</td>\n",
       "      <td>29.99</td>\n",
       "      <td>US $29.99/ea</td>\n",
       "      <td></td>\n",
       "      <td>Little Ferry, New Jersey, United States</td>\n",
       "      <td>10</td>\n",
       "      <td>0</td>\n",
       "      <td>29.99</td>\n",
       "    </tr>\n",
       "  </tbody>\n",
       "</table>\n",
       "</div>"
      ],
      "text/plain": [
       "              brand                                              title  \\\n",
       "0  Carolina Herrera  Good Girl by Carolina Herrera 2.7 oz Eau De Pa...   \n",
       "1          As Shown  Parfums de Marly Delina La Rosee Eau de Parfum...   \n",
       "2             PRADA  PRADA Paradoxe by Prada EDP 3.0oz/90ml Spray P...   \n",
       "3           As Show  J'adore Parfum D'eau by Christian 3.4 oz EDP F...   \n",
       "4           Khadlaj  Shiyaaka for Men EDP Spray 100ML (3.4 FL.OZ) B...   \n",
       "\n",
       "            type  price priceWithCurrency                lastUpdated  \\\n",
       "0  Eau de Parfum  43.99      US $43.99/ea  May 23, 2024 10:43:50 PDT   \n",
       "1  Eau de Parfum  79.99         US $79.99  May 24, 2024 00:15:48 PDT   \n",
       "2  Eau de Parfum  59.99         US $59.99  May 14, 2024 20:54:25 PDT   \n",
       "3  Eau de Parfum  59.99      US $59.99/ea  May 23, 2024 01:23:05 PDT   \n",
       "4  Eau de Parfum  29.99      US $29.99/ea                              \n",
       "\n",
       "                              itemLocation  correct_available  correct_sold  \\\n",
       "0      Thomasville, Alabama, United States                  2           393   \n",
       "1                    New Jersey, Hong Kong                  5            40   \n",
       "2        Orange, New Jersey, United States                 10            35   \n",
       "3               USA, New Jersey, Hong Kong                 10             9   \n",
       "4  Little Ferry, New Jersey, United States                 10             0   \n",
       "\n",
       "   price_in_$  \n",
       "0       43.99  \n",
       "1       79.99  \n",
       "2       59.99  \n",
       "3       59.99  \n",
       "4       29.99  "
      ]
     },
     "execution_count": 43,
     "metadata": {},
     "output_type": "execute_result"
    }
   ],
   "source": [
    "women_df.head()"
   ]
  },
  {
   "cell_type": "code",
   "execution_count": 44,
   "id": "78f6e7d0-1b0b-4b2e-af89-b340ca572c7d",
   "metadata": {},
   "outputs": [],
   "source": [
    "women_df.drop(columns=['priceWithCurrency'], inplace=True)"
   ]
  },
  {
   "cell_type": "code",
   "execution_count": 45,
   "id": "f3c15f79-3e18-4725-8983-5a570903cd4b",
   "metadata": {},
   "outputs": [
    {
     "data": {
      "text/html": [
       "<div>\n",
       "<style scoped>\n",
       "    .dataframe tbody tr th:only-of-type {\n",
       "        vertical-align: middle;\n",
       "    }\n",
       "\n",
       "    .dataframe tbody tr th {\n",
       "        vertical-align: top;\n",
       "    }\n",
       "\n",
       "    .dataframe thead th {\n",
       "        text-align: right;\n",
       "    }\n",
       "</style>\n",
       "<table border=\"1\" class=\"dataframe\">\n",
       "  <thead>\n",
       "    <tr style=\"text-align: right;\">\n",
       "      <th></th>\n",
       "      <th>brand</th>\n",
       "      <th>title</th>\n",
       "      <th>type</th>\n",
       "      <th>price</th>\n",
       "      <th>lastUpdated</th>\n",
       "      <th>itemLocation</th>\n",
       "      <th>correct_available</th>\n",
       "      <th>correct_sold</th>\n",
       "      <th>price_in_$</th>\n",
       "    </tr>\n",
       "  </thead>\n",
       "  <tbody>\n",
       "    <tr>\n",
       "      <th>0</th>\n",
       "      <td>Carolina Herrera</td>\n",
       "      <td>Good Girl by Carolina Herrera 2.7 oz Eau De Pa...</td>\n",
       "      <td>Eau de Parfum</td>\n",
       "      <td>43.99</td>\n",
       "      <td>May 23, 2024 10:43:50 PDT</td>\n",
       "      <td>Thomasville, Alabama, United States</td>\n",
       "      <td>2</td>\n",
       "      <td>393</td>\n",
       "      <td>43.99</td>\n",
       "    </tr>\n",
       "    <tr>\n",
       "      <th>1</th>\n",
       "      <td>As Shown</td>\n",
       "      <td>Parfums de Marly Delina La Rosee Eau de Parfum...</td>\n",
       "      <td>Eau de Parfum</td>\n",
       "      <td>79.99</td>\n",
       "      <td>May 24, 2024 00:15:48 PDT</td>\n",
       "      <td>New Jersey, Hong Kong</td>\n",
       "      <td>5</td>\n",
       "      <td>40</td>\n",
       "      <td>79.99</td>\n",
       "    </tr>\n",
       "    <tr>\n",
       "      <th>2</th>\n",
       "      <td>PRADA</td>\n",
       "      <td>PRADA Paradoxe by Prada EDP 3.0oz/90ml Spray P...</td>\n",
       "      <td>Eau de Parfum</td>\n",
       "      <td>59.99</td>\n",
       "      <td>May 14, 2024 20:54:25 PDT</td>\n",
       "      <td>Orange, New Jersey, United States</td>\n",
       "      <td>10</td>\n",
       "      <td>35</td>\n",
       "      <td>59.99</td>\n",
       "    </tr>\n",
       "    <tr>\n",
       "      <th>3</th>\n",
       "      <td>As Show</td>\n",
       "      <td>J'adore Parfum D'eau by Christian 3.4 oz EDP F...</td>\n",
       "      <td>Eau de Parfum</td>\n",
       "      <td>59.99</td>\n",
       "      <td>May 23, 2024 01:23:05 PDT</td>\n",
       "      <td>USA, New Jersey, Hong Kong</td>\n",
       "      <td>10</td>\n",
       "      <td>9</td>\n",
       "      <td>59.99</td>\n",
       "    </tr>\n",
       "    <tr>\n",
       "      <th>4</th>\n",
       "      <td>Khadlaj</td>\n",
       "      <td>Shiyaaka for Men EDP Spray 100ML (3.4 FL.OZ) B...</td>\n",
       "      <td>Eau de Parfum</td>\n",
       "      <td>29.99</td>\n",
       "      <td></td>\n",
       "      <td>Little Ferry, New Jersey, United States</td>\n",
       "      <td>10</td>\n",
       "      <td>0</td>\n",
       "      <td>29.99</td>\n",
       "    </tr>\n",
       "  </tbody>\n",
       "</table>\n",
       "</div>"
      ],
      "text/plain": [
       "              brand                                              title  \\\n",
       "0  Carolina Herrera  Good Girl by Carolina Herrera 2.7 oz Eau De Pa...   \n",
       "1          As Shown  Parfums de Marly Delina La Rosee Eau de Parfum...   \n",
       "2             PRADA  PRADA Paradoxe by Prada EDP 3.0oz/90ml Spray P...   \n",
       "3           As Show  J'adore Parfum D'eau by Christian 3.4 oz EDP F...   \n",
       "4           Khadlaj  Shiyaaka for Men EDP Spray 100ML (3.4 FL.OZ) B...   \n",
       "\n",
       "            type  price                lastUpdated  \\\n",
       "0  Eau de Parfum  43.99  May 23, 2024 10:43:50 PDT   \n",
       "1  Eau de Parfum  79.99  May 24, 2024 00:15:48 PDT   \n",
       "2  Eau de Parfum  59.99  May 14, 2024 20:54:25 PDT   \n",
       "3  Eau de Parfum  59.99  May 23, 2024 01:23:05 PDT   \n",
       "4  Eau de Parfum  29.99                              \n",
       "\n",
       "                              itemLocation  correct_available  correct_sold  \\\n",
       "0      Thomasville, Alabama, United States                  2           393   \n",
       "1                    New Jersey, Hong Kong                  5            40   \n",
       "2        Orange, New Jersey, United States                 10            35   \n",
       "3               USA, New Jersey, Hong Kong                 10             9   \n",
       "4  Little Ferry, New Jersey, United States                 10             0   \n",
       "\n",
       "   price_in_$  \n",
       "0       43.99  \n",
       "1       79.99  \n",
       "2       59.99  \n",
       "3       59.99  \n",
       "4       29.99  "
      ]
     },
     "execution_count": 45,
     "metadata": {},
     "output_type": "execute_result"
    }
   ],
   "source": [
    "women_df.head()"
   ]
  },
  {
   "cell_type": "code",
   "execution_count": 46,
   "id": "01a014b8-c178-4b71-8d42-fd48aa63ab42",
   "metadata": {},
   "outputs": [
    {
     "data": {
      "text/plain": [
       "array(['Eau de Parfum', 'Eau de Toilette', 'Eau De Parfum', 'Spray',\n",
       "       '~ BODY FIRM ADVANCED BODY REPAIR TREATMENT ~', 'Parfum',\n",
       "       'Fragrance Mist', 'Deodorant Stick', 'Gift Sets', 'Eau de Perfume',\n",
       "       'Eau de Cologne', '3 Pc', 'Eau de Parfum, Eau De Parfume',\n",
       "       'Body Spray', 'Extrait de Parfum', 'Mist',\n",
       "       'Eau de Toilette, Spray', 'Perfume', '/', 'Perfume, Eau de Parfum',\n",
       "       'Fragrances', 'Eau De Cologne', 'Hair Perfume',\n",
       "       'Eau de Parfum, Spray', 'Cream', 'Eau De Parfum 2 Pcs Set', 'EDT',\n",
       "       \"L'Eau de Parfum\", 'Eau de Parfume', \"L'eau de Parfum\",\n",
       "       'SKIN_MOISTURIZER', 'EDP and Parfum', 'Fine Fragrance Mist',\n",
       "       'Lotion', 'Does not apply', 'Scented Oils', 'Shimmer', 'EDP',\n",
       "       'Eau De Toilette', 'Perfume Fragrance Mist', 'Perfume Oil',\n",
       "       'Parfum, Lotion, Gloss and Blush', 'Bath Oil', 'Elixir De Parfum',\n",
       "       'Body Mist', 'ASST', 'BEAUTY', 'Extract Parfum', 'Does Not Apply',\n",
       "       'Shimmering Body Oil', 'Body Powder', 'Eau De Parfum Supreme',\n",
       "       'cologne', 'Perfume Gift Sets', 'Toilette Spray',\n",
       "       'Eau De Parfum Spray (Unisex Tester) 3.4 oz', 'Body Lotion',\n",
       "       'deodorant', 'Esprit de Parfum', 'Discovery Set',\n",
       "       'SOLID PERFUME STICK', 'Cologne', 'Eau De Toilette Spray 3.4 oz',\n",
       "       'Eau De Parfum 3 Pcs Set', 'Sensuous Body Moisturizer',\n",
       "       'Cologne Spray', 'Pink Sugar', 'Oil Perfume',\n",
       "       'FRAGRANCE BODY MIST', 'Eau de Parfum/Perfume', '1'], dtype=object)"
      ]
     },
     "execution_count": 46,
     "metadata": {},
     "output_type": "execute_result"
    }
   ],
   "source": [
    "women_df['type'].unique()"
   ]
  },
  {
   "cell_type": "code",
   "execution_count": 47,
   "id": "abbe1bfb-6fea-45cf-b248-ac96cbf2a7b5",
   "metadata": {},
   "outputs": [
    {
     "data": {
      "text/html": [
       "<div>\n",
       "<style scoped>\n",
       "    .dataframe tbody tr th:only-of-type {\n",
       "        vertical-align: middle;\n",
       "    }\n",
       "\n",
       "    .dataframe tbody tr th {\n",
       "        vertical-align: top;\n",
       "    }\n",
       "\n",
       "    .dataframe thead th {\n",
       "        text-align: right;\n",
       "    }\n",
       "</style>\n",
       "<table border=\"1\" class=\"dataframe\">\n",
       "  <thead>\n",
       "    <tr style=\"text-align: right;\">\n",
       "      <th></th>\n",
       "      <th>brand</th>\n",
       "      <th>title</th>\n",
       "      <th>type</th>\n",
       "      <th>price</th>\n",
       "      <th>lastUpdated</th>\n",
       "      <th>itemLocation</th>\n",
       "      <th>correct_available</th>\n",
       "      <th>correct_sold</th>\n",
       "      <th>price_in_$</th>\n",
       "    </tr>\n",
       "  </thead>\n",
       "  <tbody>\n",
       "    <tr>\n",
       "      <th>99</th>\n",
       "      <td>Unbranded</td>\n",
       "      <td>Yara by Lattafa Perfumes | Eau De Parfum-100ml...</td>\n",
       "      <td>/</td>\n",
       "      <td>15.89</td>\n",
       "      <td>May 24, 2024 06:56:49 PDT</td>\n",
       "      <td>shanghai, China</td>\n",
       "      <td>10</td>\n",
       "      <td>434</td>\n",
       "      <td>15.89</td>\n",
       "    </tr>\n",
       "    <tr>\n",
       "      <th>377</th>\n",
       "      <td>Kate Spade New York</td>\n",
       "      <td>In Full Bloom Blush by Kate Spade for Women - ...</td>\n",
       "      <td>Does not apply</td>\n",
       "      <td>14.40</td>\n",
       "      <td>May 22, 2024 21:21:54 PDT</td>\n",
       "      <td>Old Bethpage, New York, United States</td>\n",
       "      <td>5</td>\n",
       "      <td>73</td>\n",
       "      <td>14.40</td>\n",
       "    </tr>\n",
       "    <tr>\n",
       "      <th>997</th>\n",
       "      <td>Unbranded</td>\n",
       "      <td>Sweet Tooth Eau de Parfum, Perfume for Women, ...</td>\n",
       "      <td>1</td>\n",
       "      <td>30.96</td>\n",
       "      <td>May 17, 2024 23:16:41 PDT</td>\n",
       "      <td>New York, New York, United States</td>\n",
       "      <td>2</td>\n",
       "      <td>3</td>\n",
       "      <td>30.96</td>\n",
       "    </tr>\n",
       "  </tbody>\n",
       "</table>\n",
       "</div>"
      ],
      "text/plain": [
       "                   brand                                              title  \\\n",
       "99             Unbranded  Yara by Lattafa Perfumes | Eau De Parfum-100ml...   \n",
       "377  Kate Spade New York  In Full Bloom Blush by Kate Spade for Women - ...   \n",
       "997            Unbranded  Sweet Tooth Eau de Parfum, Perfume for Women, ...   \n",
       "\n",
       "               type  price                lastUpdated  \\\n",
       "99                /  15.89  May 24, 2024 06:56:49 PDT   \n",
       "377  Does not apply  14.40  May 22, 2024 21:21:54 PDT   \n",
       "997               1  30.96  May 17, 2024 23:16:41 PDT   \n",
       "\n",
       "                              itemLocation  correct_available  correct_sold  \\\n",
       "99                         shanghai, China                 10           434   \n",
       "377  Old Bethpage, New York, United States                  5            73   \n",
       "997      New York, New York, United States                  2             3   \n",
       "\n",
       "     price_in_$  \n",
       "99        15.89  \n",
       "377       14.40  \n",
       "997       30.96  "
      ]
     },
     "execution_count": 47,
     "metadata": {},
     "output_type": "execute_result"
    }
   ],
   "source": [
    "women_df[women_df['type'].isin(['/', '1', 'Does not apply'])]"
   ]
  },
  {
   "cell_type": "code",
   "execution_count": 48,
   "id": "9dbd8cbb-3b1b-4196-85e5-40ca53cda5e7",
   "metadata": {},
   "outputs": [],
   "source": [
    "women_df.loc[women_df['type'].isin(['/', '1', 'Does not apply']), 'type'] = 'Eau de Parfum'"
   ]
  },
  {
   "cell_type": "code",
   "execution_count": 49,
   "id": "e5ec4373-790e-4165-920d-a8ddc35885eb",
   "metadata": {},
   "outputs": [
    {
     "data": {
      "text/plain": [
       "Series([], Name: type, dtype: object)"
      ]
     },
     "execution_count": 49,
     "metadata": {},
     "output_type": "execute_result"
    }
   ],
   "source": [
    "women_df.loc[women_df['type'].isin(['/', '1', 'Does not apply']), 'type']"
   ]
  },
  {
   "cell_type": "code",
   "execution_count": 50,
   "id": "97111a1a-9032-4a1b-9249-ff289afbd9e3",
   "metadata": {},
   "outputs": [],
   "source": [
    "cond = women_df['type'].str.startswith('~')\n",
    "women_df.loc[cond, 'type']= women_df.loc[cond, 'type'].str.replace('~', '')"
   ]
  },
  {
   "cell_type": "code",
   "execution_count": 51,
   "id": "bb2720a6-a3d8-4d29-946d-cede9d708974",
   "metadata": {},
   "outputs": [
    {
     "data": {
      "text/plain": [
       "array(['Eau de Parfum', 'Eau de Toilette', 'Eau De Parfum', 'Spray',\n",
       "       'BODY FIRM ADVANCED BODY REPAIR TREATMENT', 'Parfum',\n",
       "       'Fragrance Mist', 'Deodorant Stick', 'Gift Sets', 'Eau de Perfume',\n",
       "       'Eau de Cologne', '3 Pc', 'Eau de Parfum, Eau De Parfume',\n",
       "       'Body Spray', 'Extrait de Parfum', 'Mist',\n",
       "       'Eau de Toilette, Spray', 'Perfume', 'Perfume, Eau de Parfum',\n",
       "       'Fragrances', 'Eau De Cologne', 'Hair Perfume',\n",
       "       'Eau de Parfum, Spray', 'Cream', 'Eau De Parfum 2 Pcs Set', 'EDT',\n",
       "       \"L'Eau de Parfum\", 'Eau de Parfume', \"L'eau de Parfum\",\n",
       "       'SKIN_MOISTURIZER', 'EDP and Parfum', 'Fine Fragrance Mist',\n",
       "       'Lotion', 'Scented Oils', 'Shimmer', 'EDP', 'Eau De Toilette',\n",
       "       'Perfume Fragrance Mist', 'Perfume Oil',\n",
       "       'Parfum, Lotion, Gloss and Blush', 'Bath Oil', 'Elixir De Parfum',\n",
       "       'Body Mist', 'ASST', 'BEAUTY', 'Extract Parfum', 'Does Not Apply',\n",
       "       'Shimmering Body Oil', 'Body Powder', 'Eau De Parfum Supreme',\n",
       "       'cologne', 'Perfume Gift Sets', 'Toilette Spray',\n",
       "       'Eau De Parfum Spray (Unisex Tester) 3.4 oz', 'Body Lotion',\n",
       "       'deodorant', 'Esprit de Parfum', 'Discovery Set',\n",
       "       'SOLID PERFUME STICK', 'Cologne', 'Eau De Toilette Spray 3.4 oz',\n",
       "       'Eau De Parfum 3 Pcs Set', 'Sensuous Body Moisturizer',\n",
       "       'Cologne Spray', 'Pink Sugar', 'Oil Perfume',\n",
       "       'FRAGRANCE BODY MIST', 'Eau de Parfum/Perfume'], dtype=object)"
      ]
     },
     "execution_count": 51,
     "metadata": {},
     "output_type": "execute_result"
    }
   ],
   "source": [
    "women_df['type'] = women_df['type'].str.strip()\n",
    "women_df['type'].unique()"
   ]
  },
  {
   "cell_type": "code",
   "execution_count": 52,
   "id": "ca6205d3-0efa-4849-8930-a571d9429468",
   "metadata": {},
   "outputs": [
    {
     "data": {
      "text/plain": [
       "array(['Carolina Herrera', 'As Shown', 'PRADA', 'As Show', 'Khadlaj',\n",
       "       'Viktor & Rolf', 'AS SHOW', 'Versace', 'Lattafa',\n",
       "       'Yves Saint Laurent', 'Gucci', 'Coach', 'Guerlain', 'Philosophy',\n",
       "       'Marc Jacobs', 'AS SHOWN', 'Dolce & Gabbana', 'QRC',\n",
       "       '~ CREPE ERASE ~', 'Unbranded', 'YSL', 'Parfums de Marly',\n",
       "       'Dolce&Gabbana', 'EX NIHILO', 'Juliette has a gun', 'Davidoff',\n",
       "       'Giorgi^o Armani', 'Roja', 'Ariana Grande', 'Sol De Janeiro',\n",
       "       'Kilian', 'Donna Karan', 'Narciso Rodriguez', 'Giorgio² Armani',\n",
       "       'KENZO', 'Burberry', 'Thierry Mugler', 'Juicy Couture',\n",
       "       'Maison Margiela', 'Jo Malone', 'Elizabeth Arden',\n",
       "       'Urban Outfitters', 'Dossier', 'Maison Alhambra', 'ALT Fragrances',\n",
       "       'Estée Lauder', \"Victoria's Secret\", 'Kim Kardashian', 'Gap',\n",
       "       'Cacharel', 'Jessica McClintock', 'AS  SHOWN', 'Clinique',\n",
       "       'Valentino', 'Giorgio Armani', 'Jimmy Choo', 'Calvin Klein',\n",
       "       'Alfred Sung', 'Gloria Vanderbilt', 'Parfums', 'Ouai', 'Lancôme',\n",
       "       'Ellis Brooklyn', 'Elizabeth Taylor', 'Generic', 'Al Haramain',\n",
       "       'Al Rehab', 'BYREDO', 'Huda Beauty Kayali', 'Evyan', 'Lake&skye',\n",
       "       'Frederic Malle', 'Marilyn Miglin', 'Aquolina', 'Perry Ellis',\n",
       "       'Armaf', 'Lattafa Perfumes', 'ALFRED SUNG', 'Katy Perry',\n",
       "       'Montblanc', 'Atelier Cologne', 'Christian Audigier', 'Vera Wang',\n",
       "       'GUESS', 'Coty', 'Clean', 'Afnan', 'Britney Spears',\n",
       "       'Estee Lauder', 'Givenchy', 'ESCADA', 'Michael Kors', 'Le Labo',\n",
       "       'Hollister', 'Ralph Lauren', 'Glossier', 'Dolce Gabbana', 'Chloe',\n",
       "       'LANCOME', 'Lancome', 'Natalie', 'Paris Hilton', 'Avon',\n",
       "       'Chaka by Chaka Khan', 'CHANEL', 'HUGO BOSS', 'Huda Beauty',\n",
       "       'Bellie Eilish', 'Lucky', 'Giorgio Beverly Hills', 'TF',\n",
       "       'Juliette Has a Gun', 'Oscar de la Renta',\n",
       "       'Elizabeth And James Nirvana', 'FLOWER', 'Tom Ford', 'Lanvin',\n",
       "       'Parfums Gres', 'Vicki Tiel', 'Moschino', 'Dior', 'Fragonard',\n",
       "       'Kate Spade New York', 'Spiritual Sky', 'al hambra',\n",
       "       'GIORGIO BEVERLY HILLS', 'J. Del Pozo', 'True Religion',\n",
       "       'Taylor Swift', 'HERMÈS', 'Paco Rabanne', 'Kenneth Cole', 'Creed',\n",
       "       'Byredo', 'Acqua di Parma', 'Dana', 'Liz Claiborne', 'M·A·C',\n",
       "       'Robert Piguet', 'Halston', 'Gloss Moderne', 'Justin Bieber',\n",
       "       'Revlon', 'Sarah Jessica Parker', 'Jennifer Lopez', 'Xerjoff',\n",
       "       'Kate Spade', 'Gianni Versace', 'Zara', 'Al Wataniah', 'J Lo',\n",
       "       'Yardley London', 'Pure Romance', 'Tous', \"Perfumer's Workshop\",\n",
       "       'Boucheron', 'Parfum', 'Sean John', 'Bvlgari', 'Adam Levine',\n",
       "       'Jean couturier', 'Chopard', 'CHANGE For Women', 'ASST',\n",
       "       'Al-Rehab', 'Tiziana Terenzi', 'Tory Burch', 'Miraclelayer',\n",
       "       'Fragrance Couture', 'One Direction', 'Mancera', 'Montale',\n",
       "       'Prince Matchabelli', 'Giardini Di Toscana', 'Assorted',\n",
       "       'Jessica Simpson', 'love luxe beauty', 'Tru Fragrance',\n",
       "       'Sabrina Carpenter', 'Nest', 'Parfums Grès', 'Multiple Brands',\n",
       "       'Designer Series', 'Paloma Picasso', 'As Picture Show',\n",
       "       'Aeropostale', 'PHLUR', 'JLO', 'Ainash Perfums',\n",
       "       'Salvatore Ferragamo', 'diptyque', 'as showed',\n",
       "       'Maison Martin Margiela', 'T.O.V.A.', 'Jovan', 'Benetton',\n",
       "       'Tiffany & Co.', 'Fred Hayman', 'Miim Miic', 'Escada', 'AERIN',\n",
       "       'Giorgio Arm.ani', 'Pleasing', 'PINK', 'Perfume', 'ULTA',\n",
       "       'Rihanna', 'Vilhelm Parfumerie', 'Preferred Fragrance', 'Sisley',\n",
       "       'Anna Sui', 'Fuller Armand Dupree', 'dossier', 'BURBERRY',\n",
       "       'Atlantic', \"L'Artisan\", 'Clubman Pinaud', 'Lomani',\n",
       "       'Tommy Hilfiger', 'Banana Republic', 'Lolita Lempicka', 'MONTALE',\n",
       "       'ISSEY MIYAKE', 'Baby Phat', 'MEM', 'Gwen Stefani', 'Chloé',\n",
       "       'Jeanne Arthes', 'Jean Paul Gaultier', 'Daddy Yankee',\n",
       "       'Classic Erotica', 'Pacifica', 'Snif', 'Bath & Body Works',\n",
       "       'Rasasi', 'The Body Shop', 'Five Star Fragrance', 'Pink sugar',\n",
       "       'Elizabeth & James', 'Elie Saab', 'SEE PHOTO',\n",
       "       'Armand Dupree Fuller', 'DKNY', 'United Colors of Benetton',\n",
       "       'Maison', 'Vince Camuto', 'Juliette Has A Gun'], dtype=object)"
      ]
     },
     "execution_count": 52,
     "metadata": {},
     "output_type": "execute_result"
    }
   ],
   "source": [
    "women_df['brand'].unique()"
   ]
  },
  {
   "cell_type": "code",
   "execution_count": 53,
   "id": "21deb5ab-4c20-47f0-b16b-3f23586da99a",
   "metadata": {},
   "outputs": [
    {
     "data": {
      "text/plain": [
       "array(['Carolina Herrera', 'As Shown', 'PRADA', 'As Show', 'Khadlaj',\n",
       "       'Viktor & Rolf', 'AS SHOW', 'Versace', 'Lattafa',\n",
       "       'Yves Saint Laurent', 'Gucci', 'Coach', 'Guerlain', 'Philosophy',\n",
       "       'Marc Jacobs', 'AS SHOWN', 'Dolce & Gabbana', 'QRC', 'CREPE ERASE',\n",
       "       'Unbranded', 'YSL', 'Parfums de Marly', 'Dolce&Gabbana',\n",
       "       'EX NIHILO', 'Juliette has a gun', 'Davidoff', 'Giorgi^o Armani',\n",
       "       'Roja', 'Ariana Grande', 'Sol De Janeiro', 'Kilian', 'Donna Karan',\n",
       "       'Narciso Rodriguez', 'Giorgio² Armani', 'KENZO', 'Burberry',\n",
       "       'Thierry Mugler', 'Juicy Couture', 'Maison Margiela', 'Jo Malone',\n",
       "       'Elizabeth Arden', 'Urban Outfitters', 'Dossier',\n",
       "       'Maison Alhambra', 'ALT Fragrances', 'Estée Lauder',\n",
       "       \"Victoria's Secret\", 'Kim Kardashian', 'Gap', 'Cacharel',\n",
       "       'Jessica McClintock', 'AS  SHOWN', 'Clinique', 'Valentino',\n",
       "       'Giorgio Armani', 'Jimmy Choo', 'Calvin Klein', 'Alfred Sung',\n",
       "       'Gloria Vanderbilt', 'Parfums', 'Ouai', 'Lancôme',\n",
       "       'Ellis Brooklyn', 'Elizabeth Taylor', 'Generic', 'Al Haramain',\n",
       "       'Al Rehab', 'BYREDO', 'Huda Beauty Kayali', 'Evyan', 'Lake&skye',\n",
       "       'Frederic Malle', 'Marilyn Miglin', 'Aquolina', 'Perry Ellis',\n",
       "       'Armaf', 'Lattafa Perfumes', 'ALFRED SUNG', 'Katy Perry',\n",
       "       'Montblanc', 'Atelier Cologne', 'Christian Audigier', 'Vera Wang',\n",
       "       'GUESS', 'Coty', 'Clean', 'Afnan', 'Britney Spears',\n",
       "       'Estee Lauder', 'Givenchy', 'ESCADA', 'Michael Kors', 'Le Labo',\n",
       "       'Hollister', 'Ralph Lauren', 'Glossier', 'Dolce Gabbana', 'Chloe',\n",
       "       'LANCOME', 'Lancome', 'Natalie', 'Paris Hilton', 'Avon',\n",
       "       'Chaka by Chaka Khan', 'CHANEL', 'HUGO BOSS', 'Huda Beauty',\n",
       "       'Bellie Eilish', 'Lucky', 'Giorgio Beverly Hills', 'TF',\n",
       "       'Juliette Has a Gun', 'Oscar de la Renta',\n",
       "       'Elizabeth And James Nirvana', 'FLOWER', 'Tom Ford', 'Lanvin',\n",
       "       'Parfums Gres', 'Vicki Tiel', 'Moschino', 'Dior', 'Fragonard',\n",
       "       'Kate Spade New York', 'Spiritual Sky', 'al hambra',\n",
       "       'GIORGIO BEVERLY HILLS', 'J. Del Pozo', 'True Religion',\n",
       "       'Taylor Swift', 'HERMÈS', 'Paco Rabanne', 'Kenneth Cole', 'Creed',\n",
       "       'Byredo', 'Acqua di Parma', 'Dana', 'Liz Claiborne', 'M·A·C',\n",
       "       'Robert Piguet', 'Halston', 'Gloss Moderne', 'Justin Bieber',\n",
       "       'Revlon', 'Sarah Jessica Parker', 'Jennifer Lopez', 'Xerjoff',\n",
       "       'Kate Spade', 'Gianni Versace', 'Zara', 'Al Wataniah', 'J Lo',\n",
       "       'Yardley London', 'Pure Romance', 'Tous', \"Perfumer's Workshop\",\n",
       "       'Boucheron', 'Parfum', 'Sean John', 'Bvlgari', 'Adam Levine',\n",
       "       'Jean couturier', 'Chopard', 'CHANGE For Women', 'ASST',\n",
       "       'Al-Rehab', 'Tiziana Terenzi', 'Tory Burch', 'Miraclelayer',\n",
       "       'Fragrance Couture', 'One Direction', 'Mancera', 'Montale',\n",
       "       'Prince Matchabelli', 'Giardini Di Toscana', 'Assorted',\n",
       "       'Jessica Simpson', 'love luxe beauty', 'Tru Fragrance',\n",
       "       'Sabrina Carpenter', 'Nest', 'Parfums Grès', 'Multiple Brands',\n",
       "       'Designer Series', 'Paloma Picasso', 'As Picture Show',\n",
       "       'Aeropostale', 'PHLUR', 'JLO', 'Ainash Perfums',\n",
       "       'Salvatore Ferragamo', 'diptyque', 'as showed',\n",
       "       'Maison Martin Margiela', 'T.O.V.A.', 'Jovan', 'Benetton',\n",
       "       'Tiffany & Co.', 'Fred Hayman', 'Miim Miic', 'Escada', 'AERIN',\n",
       "       'Giorgio Arm.ani', 'Pleasing', 'PINK', 'Perfume', 'ULTA',\n",
       "       'Rihanna', 'Vilhelm Parfumerie', 'Preferred Fragrance', 'Sisley',\n",
       "       'Anna Sui', 'Fuller Armand Dupree', 'dossier', 'BURBERRY',\n",
       "       'Atlantic', \"L'Artisan\", 'Clubman Pinaud', 'Lomani',\n",
       "       'Tommy Hilfiger', 'Banana Republic', 'Lolita Lempicka', 'MONTALE',\n",
       "       'ISSEY MIYAKE', 'Baby Phat', 'MEM', 'Gwen Stefani', 'Chloé',\n",
       "       'Jeanne Arthes', 'Jean Paul Gaultier', 'Daddy Yankee',\n",
       "       'Classic Erotica', 'Pacifica', 'Snif', 'Bath & Body Works',\n",
       "       'Rasasi', 'The Body Shop', 'Five Star Fragrance', 'Pink sugar',\n",
       "       'Elizabeth & James', 'Elie Saab', 'SEE PHOTO',\n",
       "       'Armand Dupree Fuller', 'DKNY', 'United Colors of Benetton',\n",
       "       'Maison', 'Vince Camuto', 'Juliette Has A Gun'], dtype=object)"
      ]
     },
     "execution_count": 53,
     "metadata": {},
     "output_type": "execute_result"
    }
   ],
   "source": [
    "cond = women_df['brand'].str.startswith('~')\n",
    "women_df.loc[cond, 'brand'] = women_df.loc[cond, 'brand'].str.replace('~', '').str.strip()\n",
    "women_df['brand'].unique()"
   ]
  },
  {
   "cell_type": "code",
   "execution_count": 54,
   "id": "a849425d-5271-4496-900f-66ef66aed53c",
   "metadata": {},
   "outputs": [
    {
     "data": {
      "text/plain": [
       "array(['Eau de Parfum', 'Eau de Toilette', 'Eau De Parfum', 'Spray',\n",
       "       'BODY FIRM ADVANCED BODY REPAIR TREATMENT', 'Parfum',\n",
       "       'Fragrance Mist', 'Deodorant Stick', 'Gift Sets', 'Eau de Perfume',\n",
       "       'Eau de Cologne', '3 Pc', 'Eau de Parfum, Eau De Parfume',\n",
       "       'Body Spray', 'Extrait de Parfum', 'Mist',\n",
       "       'Eau de Toilette, Spray', 'Perfume', 'Perfume, Eau de Parfum',\n",
       "       'Fragrances', 'Eau De Cologne', 'Hair Perfume',\n",
       "       'Eau de Parfum, Spray', 'Cream', 'Eau De Parfum 2 Pcs Set', 'EDT',\n",
       "       \"L'Eau de Parfum\", 'Eau de Parfume', \"L'eau de Parfum\",\n",
       "       'SKIN_MOISTURIZER', 'EDP and Parfum', 'Fine Fragrance Mist',\n",
       "       'Lotion', 'Scented Oils', 'Shimmer', 'EDP', 'Eau De Toilette',\n",
       "       'Perfume Fragrance Mist', 'Perfume Oil',\n",
       "       'Parfum, Lotion, Gloss and Blush', 'Bath Oil', 'Elixir De Parfum',\n",
       "       'Body Mist', 'ASST', 'BEAUTY', 'Extract Parfum', 'Does Not Apply',\n",
       "       'Shimmering Body Oil', 'Body Powder', 'Eau De Parfum Supreme',\n",
       "       'cologne', 'Perfume Gift Sets', 'Toilette Spray',\n",
       "       'Eau De Parfum Spray (Unisex Tester) 3.4 oz', 'Body Lotion',\n",
       "       'deodorant', 'Esprit de Parfum', 'Discovery Set',\n",
       "       'SOLID PERFUME STICK', 'Cologne', 'Eau De Toilette Spray 3.4 oz',\n",
       "       'Eau De Parfum 3 Pcs Set', 'Sensuous Body Moisturizer',\n",
       "       'Cologne Spray', 'Pink Sugar', 'Oil Perfume',\n",
       "       'FRAGRANCE BODY MIST', 'Eau de Parfum/Perfume'], dtype=object)"
      ]
     },
     "execution_count": 54,
     "metadata": {},
     "output_type": "execute_result"
    }
   ],
   "source": [
    "women_df['type'].unique()"
   ]
  },
  {
   "cell_type": "code",
   "execution_count": 55,
   "id": "67724182-1f97-4b56-9e91-e982c7d2cd36",
   "metadata": {},
   "outputs": [],
   "source": [
    "cond = women_df['type'].isin(['Eau de Parfum', 'Parfum', 'Eau de Perfume',\n",
    "                              'Eau De Parfume', 'Perfume', \"L'Eau de Parfum\",\n",
    "                              'Eau De Parfum Supreme', 'Elixir De Parfum',\n",
    "                              'Esprit de Parfum', 'Eau de Parfum/Perfume',\n",
    "                              'Eau de Parfum, Spray', 'Perfume, Eau de Parfum',\n",
    "                              'Eau De Parfume', 'Eau de Parfum, Eau De Parfume',\n",
    "                             'Eau De Parfum', 'Eau de Parfume', 'Eau de Parfume', \"L'eau de Parfum\", \"Extrait de Parfum\"])\n",
    "women_df.loc[cond, 'type'] = 'Eau de Parfum'"
   ]
  },
  {
   "cell_type": "code",
   "execution_count": 56,
   "id": "3c89d0d2-d8d6-44b6-a9bd-a1312834d98c",
   "metadata": {},
   "outputs": [
    {
     "data": {
      "text/plain": [
       "array(['Eau de Parfum', 'Eau de Toilette', 'Spray',\n",
       "       'BODY FIRM ADVANCED BODY REPAIR TREATMENT', 'Fragrance Mist',\n",
       "       'Deodorant Stick', 'Gift Sets', 'Eau de Cologne', '3 Pc',\n",
       "       'Body Spray', 'Mist', 'Eau de Toilette, Spray', 'Fragrances',\n",
       "       'Eau De Cologne', 'Hair Perfume', 'Cream',\n",
       "       'Eau De Parfum 2 Pcs Set', 'EDT', 'SKIN_MOISTURIZER',\n",
       "       'EDP and Parfum', 'Fine Fragrance Mist', 'Lotion', 'Scented Oils',\n",
       "       'Shimmer', 'EDP', 'Eau De Toilette', 'Perfume Fragrance Mist',\n",
       "       'Perfume Oil', 'Parfum, Lotion, Gloss and Blush', 'Bath Oil',\n",
       "       'Body Mist', 'ASST', 'BEAUTY', 'Extract Parfum', 'Does Not Apply',\n",
       "       'Shimmering Body Oil', 'Body Powder', 'cologne',\n",
       "       'Perfume Gift Sets', 'Toilette Spray',\n",
       "       'Eau De Parfum Spray (Unisex Tester) 3.4 oz', 'Body Lotion',\n",
       "       'deodorant', 'Discovery Set', 'SOLID PERFUME STICK', 'Cologne',\n",
       "       'Eau De Toilette Spray 3.4 oz', 'Eau De Parfum 3 Pcs Set',\n",
       "       'Sensuous Body Moisturizer', 'Cologne Spray', 'Pink Sugar',\n",
       "       'Oil Perfume', 'FRAGRANCE BODY MIST'], dtype=object)"
      ]
     },
     "execution_count": 56,
     "metadata": {},
     "output_type": "execute_result"
    }
   ],
   "source": [
    "women_df['type'].unique()"
   ]
  },
  {
   "cell_type": "code",
   "execution_count": 57,
   "id": "d2a664d9-3d44-44b0-81b0-0beb8a85809a",
   "metadata": {},
   "outputs": [],
   "source": [
    "cond = women_df['type'].str.contains('Cologne')\n",
    "women_df.loc[cond, 'type'] = 'Eau de cologne'"
   ]
  },
  {
   "cell_type": "code",
   "execution_count": 58,
   "id": "ecb426f5-313a-423c-89b9-6d16df8e781f",
   "metadata": {},
   "outputs": [
    {
     "data": {
      "text/plain": [
       "array(['Eau de Parfum', 'Eau de Toilette', 'Spray',\n",
       "       'BODY FIRM ADVANCED BODY REPAIR TREATMENT', 'Fragrance Mist',\n",
       "       'Deodorant Stick', 'Gift Sets', 'Eau de cologne', '3 Pc',\n",
       "       'Body Spray', 'Mist', 'Eau de Toilette, Spray', 'Fragrances',\n",
       "       'Hair Perfume', 'Cream', 'Eau De Parfum 2 Pcs Set', 'EDT',\n",
       "       'SKIN_MOISTURIZER', 'EDP and Parfum', 'Fine Fragrance Mist',\n",
       "       'Lotion', 'Scented Oils', 'Shimmer', 'EDP', 'Eau De Toilette',\n",
       "       'Perfume Fragrance Mist', 'Perfume Oil',\n",
       "       'Parfum, Lotion, Gloss and Blush', 'Bath Oil', 'Body Mist', 'ASST',\n",
       "       'BEAUTY', 'Extract Parfum', 'Does Not Apply',\n",
       "       'Shimmering Body Oil', 'Body Powder', 'cologne',\n",
       "       'Perfume Gift Sets', 'Toilette Spray',\n",
       "       'Eau De Parfum Spray (Unisex Tester) 3.4 oz', 'Body Lotion',\n",
       "       'deodorant', 'Discovery Set', 'SOLID PERFUME STICK',\n",
       "       'Eau De Toilette Spray 3.4 oz', 'Eau De Parfum 3 Pcs Set',\n",
       "       'Sensuous Body Moisturizer', 'Pink Sugar', 'Oil Perfume',\n",
       "       'FRAGRANCE BODY MIST'], dtype=object)"
      ]
     },
     "execution_count": 58,
     "metadata": {},
     "output_type": "execute_result"
    }
   ],
   "source": [
    "women_df['type'].unique()"
   ]
  },
  {
   "cell_type": "code",
   "execution_count": 59,
   "id": "6cff9fad-6eb3-4825-904f-f25a2291518f",
   "metadata": {},
   "outputs": [
    {
     "data": {
      "text/plain": [
       "array(['Eau de Parfum', 'Eau de toilette', 'Spray',\n",
       "       'BODY FIRM ADVANCED BODY REPAIR TREATMENT', 'Fragrance Mist',\n",
       "       'Deodorant Stick', 'Gift Sets', 'Eau de cologne', '3 Pc',\n",
       "       'Body Spray', 'Mist', 'Fragrances', 'Hair Perfume', 'Cream',\n",
       "       'Eau De Parfum 2 Pcs Set', 'EDT', 'SKIN_MOISTURIZER',\n",
       "       'EDP and Parfum', 'Fine Fragrance Mist', 'Lotion', 'Scented Oils',\n",
       "       'Shimmer', 'EDP', 'Perfume Fragrance Mist', 'Perfume Oil',\n",
       "       'Parfum, Lotion, Gloss and Blush', 'Bath Oil', 'Body Mist', 'ASST',\n",
       "       'BEAUTY', 'Extract Parfum', 'Does Not Apply',\n",
       "       'Shimmering Body Oil', 'Body Powder', 'cologne',\n",
       "       'Perfume Gift Sets', 'Eau De Parfum Spray (Unisex Tester) 3.4 oz',\n",
       "       'Body Lotion', 'deodorant', 'Discovery Set', 'SOLID PERFUME STICK',\n",
       "       'Eau De Parfum 3 Pcs Set', 'Sensuous Body Moisturizer',\n",
       "       'Pink Sugar', 'Oil Perfume', 'FRAGRANCE BODY MIST'], dtype=object)"
      ]
     },
     "execution_count": 59,
     "metadata": {},
     "output_type": "execute_result"
    }
   ],
   "source": [
    "cond = women_df['type'].str.contains('Toilette')\n",
    "women_df.loc[cond, 'type'] = 'Eau de toilette'\n",
    "women_df['type'].unique()"
   ]
  },
  {
   "cell_type": "code",
   "execution_count": 60,
   "id": "65ae7ba7-a856-4803-a7bf-0e3dfedaa52b",
   "metadata": {},
   "outputs": [
    {
     "data": {
      "text/plain": [
       "array(['Eau de Parfum', 'Eau de toilette', 'body mist',\n",
       "       'BODY FIRM ADVANCED BODY REPAIR TREATMENT', 'Deodorant Stick',\n",
       "       'Gift Sets', 'Eau de cologne', '3 Pc', 'Fragrances',\n",
       "       'Hair Perfume', 'Cream', 'Eau De Parfum 2 Pcs Set', 'EDT',\n",
       "       'SKIN_MOISTURIZER', 'EDP and Parfum', 'Lotion', 'Scented Oils',\n",
       "       'Shimmer', 'EDP', 'Perfume Oil', 'Parfum, Lotion, Gloss and Blush',\n",
       "       'Bath Oil', 'ASST', 'BEAUTY', 'Extract Parfum', 'Does Not Apply',\n",
       "       'Shimmering Body Oil', 'Body Powder', 'cologne',\n",
       "       'Perfume Gift Sets', 'Body Lotion', 'deodorant', 'Discovery Set',\n",
       "       'SOLID PERFUME STICK', 'Eau De Parfum 3 Pcs Set',\n",
       "       'Sensuous Body Moisturizer', 'Pink Sugar', 'Oil Perfume',\n",
       "       'FRAGRANCE BODY MIST'], dtype=object)"
      ]
     },
     "execution_count": 60,
     "metadata": {},
     "output_type": "execute_result"
    }
   ],
   "source": [
    "cond = women_df['type'].str.contains('Mist|Spray')\n",
    "women_df.loc[cond, 'type'] = 'body mist'\n",
    "women_df['type'].unique()"
   ]
  },
  {
   "cell_type": "code",
   "execution_count": 61,
   "id": "bab09c34-8be2-4f67-b716-c8a449175062",
   "metadata": {},
   "outputs": [
    {
     "data": {
      "text/html": [
       "<div>\n",
       "<style scoped>\n",
       "    .dataframe tbody tr th:only-of-type {\n",
       "        vertical-align: middle;\n",
       "    }\n",
       "\n",
       "    .dataframe tbody tr th {\n",
       "        vertical-align: top;\n",
       "    }\n",
       "\n",
       "    .dataframe thead th {\n",
       "        text-align: right;\n",
       "    }\n",
       "</style>\n",
       "<table border=\"1\" class=\"dataframe\">\n",
       "  <thead>\n",
       "    <tr style=\"text-align: right;\">\n",
       "      <th></th>\n",
       "      <th>brand</th>\n",
       "      <th>title</th>\n",
       "      <th>type</th>\n",
       "      <th>price</th>\n",
       "      <th>lastUpdated</th>\n",
       "      <th>itemLocation</th>\n",
       "      <th>correct_available</th>\n",
       "      <th>correct_sold</th>\n",
       "      <th>price_in_$</th>\n",
       "    </tr>\n",
       "  </thead>\n",
       "  <tbody>\n",
       "    <tr>\n",
       "      <th>574</th>\n",
       "      <td>Cacharel</td>\n",
       "      <td>Noa by Cacharel for Women Eau de Toilette Spra...</td>\n",
       "      <td>Does Not Apply</td>\n",
       "      <td>20.0</td>\n",
       "      <td>Apr 28, 2024 19:08:51 PDT</td>\n",
       "      <td>New York, New York, United States</td>\n",
       "      <td>10</td>\n",
       "      <td>79</td>\n",
       "      <td>20.0</td>\n",
       "    </tr>\n",
       "  </tbody>\n",
       "</table>\n",
       "</div>"
      ],
      "text/plain": [
       "        brand                                              title  \\\n",
       "574  Cacharel  Noa by Cacharel for Women Eau de Toilette Spra...   \n",
       "\n",
       "               type  price                lastUpdated  \\\n",
       "574  Does Not Apply   20.0  Apr 28, 2024 19:08:51 PDT   \n",
       "\n",
       "                          itemLocation  correct_available  correct_sold  \\\n",
       "574  New York, New York, United States                 10            79   \n",
       "\n",
       "     price_in_$  \n",
       "574        20.0  "
      ]
     },
     "execution_count": 61,
     "metadata": {},
     "output_type": "execute_result"
    }
   ],
   "source": [
    "cond = women_df['type'] == 'Does Not Apply'\n",
    "women_df[cond]"
   ]
  },
  {
   "cell_type": "code",
   "execution_count": 62,
   "id": "2ef67d83-4207-416e-8d62-b4cd12abccc7",
   "metadata": {},
   "outputs": [],
   "source": [
    "women_df.loc[cond, 'type'] = 'Eau de toilette'"
   ]
  },
  {
   "cell_type": "code",
   "execution_count": 63,
   "id": "75d9757e-8853-403a-8555-db23a1c45874",
   "metadata": {},
   "outputs": [
    {
     "data": {
      "text/plain": [
       "array(['Eau de Parfum', 'Eau de toilette', 'body mist',\n",
       "       'BODY FIRM ADVANCED BODY REPAIR TREATMENT', 'Deodorant Stick',\n",
       "       'Gift Sets', 'Eau de cologne', '3 Pc', 'Fragrances',\n",
       "       'Hair Perfume', 'Cream', 'Eau De Parfum 2 Pcs Set', 'EDT',\n",
       "       'SKIN_MOISTURIZER', 'EDP and Parfum', 'Lotion', 'Scented Oils',\n",
       "       'Shimmer', 'EDP', 'Perfume Oil', 'Parfum, Lotion, Gloss and Blush',\n",
       "       'Bath Oil', 'ASST', 'BEAUTY', 'Extract Parfum',\n",
       "       'Shimmering Body Oil', 'Body Powder', 'cologne',\n",
       "       'Perfume Gift Sets', 'Body Lotion', 'deodorant', 'Discovery Set',\n",
       "       'SOLID PERFUME STICK', 'Eau De Parfum 3 Pcs Set',\n",
       "       'Sensuous Body Moisturizer', 'Pink Sugar', 'Oil Perfume',\n",
       "       'FRAGRANCE BODY MIST'], dtype=object)"
      ]
     },
     "execution_count": 63,
     "metadata": {},
     "output_type": "execute_result"
    }
   ],
   "source": [
    "women_df['type'].unique()"
   ]
  },
  {
   "cell_type": "code",
   "execution_count": 64,
   "id": "90aa8273-b77a-49d6-b237-6c5d104b09da",
   "metadata": {},
   "outputs": [
    {
     "data": {
      "text/plain": [
       "array(['Eau de Parfum', 'Eau de toilette', 'body mist',\n",
       "       'BODY FIRM ADVANCED BODY REPAIR TREATMENT', 'Deodorant Stick',\n",
       "       'Gift Sets', 'Eau de cologne', '3 Pc', 'Fragrances',\n",
       "       'Hair Perfume', 'Cream', 'Eau De Parfum 2 Pcs Set', 'EDT',\n",
       "       'SKIN_MOISTURIZER', 'EDP and Parfum', 'Lotion', 'Scented Oils',\n",
       "       'Shimmer', 'EDP', 'Perfume Oil', 'Parfum, Lotion, Gloss and Blush',\n",
       "       'Bath Oil', 'ASST', 'BEAUTY', 'Extract Parfum',\n",
       "       'Shimmering Body Oil', 'Body Powder', 'cologne',\n",
       "       'Perfume Gift Sets', 'Body Lotion', 'deodorant', 'Discovery Set',\n",
       "       'SOLID PERFUME STICK', 'Eau De Parfum 3 Pcs Set',\n",
       "       'Sensuous Body Moisturizer', 'Pink Sugar', 'Oil Perfume'],\n",
       "      dtype=object)"
      ]
     },
     "execution_count": 64,
     "metadata": {},
     "output_type": "execute_result"
    }
   ],
   "source": [
    "women_df['type'] = women_df['type'].replace('FRAGRANCE BODY MIST', 'body mist')\n",
    "women_df['type'].unique()"
   ]
  },
  {
   "cell_type": "code",
   "execution_count": 65,
   "id": "6f0f2ec8-ebd9-438f-b081-977215125f23",
   "metadata": {
    "scrolled": true
   },
   "outputs": [
    {
     "data": {
      "text/html": [
       "<div>\n",
       "<style scoped>\n",
       "    .dataframe tbody tr th:only-of-type {\n",
       "        vertical-align: middle;\n",
       "    }\n",
       "\n",
       "    .dataframe tbody tr th {\n",
       "        vertical-align: top;\n",
       "    }\n",
       "\n",
       "    .dataframe thead th {\n",
       "        text-align: right;\n",
       "    }\n",
       "</style>\n",
       "<table border=\"1\" class=\"dataframe\">\n",
       "  <thead>\n",
       "    <tr style=\"text-align: right;\">\n",
       "      <th></th>\n",
       "      <th>price</th>\n",
       "      <th>correct_available</th>\n",
       "      <th>correct_sold</th>\n",
       "      <th>price_in_$</th>\n",
       "    </tr>\n",
       "  </thead>\n",
       "  <tbody>\n",
       "    <tr>\n",
       "      <th>count</th>\n",
       "      <td>999.000000</td>\n",
       "      <td>999.000000</td>\n",
       "      <td>999.000000</td>\n",
       "      <td>999.000000</td>\n",
       "    </tr>\n",
       "    <tr>\n",
       "      <th>mean</th>\n",
       "      <td>39.884865</td>\n",
       "      <td>18.801802</td>\n",
       "      <td>489.855856</td>\n",
       "      <td>39.884865</td>\n",
       "    </tr>\n",
       "    <tr>\n",
       "      <th>std</th>\n",
       "      <td>29.085615</td>\n",
       "      <td>48.512655</td>\n",
       "      <td>1363.499696</td>\n",
       "      <td>29.085615</td>\n",
       "    </tr>\n",
       "    <tr>\n",
       "      <th>min</th>\n",
       "      <td>1.990000</td>\n",
       "      <td>0.000000</td>\n",
       "      <td>0.000000</td>\n",
       "      <td>1.990000</td>\n",
       "    </tr>\n",
       "    <tr>\n",
       "      <th>25%</th>\n",
       "      <td>20.690000</td>\n",
       "      <td>4.000000</td>\n",
       "      <td>14.000000</td>\n",
       "      <td>20.690000</td>\n",
       "    </tr>\n",
       "    <tr>\n",
       "      <th>50%</th>\n",
       "      <td>32.990000</td>\n",
       "      <td>9.000000</td>\n",
       "      <td>51.000000</td>\n",
       "      <td>32.990000</td>\n",
       "    </tr>\n",
       "    <tr>\n",
       "      <th>75%</th>\n",
       "      <td>49.990000</td>\n",
       "      <td>10.000000</td>\n",
       "      <td>257.000000</td>\n",
       "      <td>49.990000</td>\n",
       "    </tr>\n",
       "    <tr>\n",
       "      <th>max</th>\n",
       "      <td>299.990000</td>\n",
       "      <td>557.000000</td>\n",
       "      <td>17854.000000</td>\n",
       "      <td>299.990000</td>\n",
       "    </tr>\n",
       "  </tbody>\n",
       "</table>\n",
       "</div>"
      ],
      "text/plain": [
       "            price  correct_available  correct_sold  price_in_$\n",
       "count  999.000000         999.000000    999.000000  999.000000\n",
       "mean    39.884865          18.801802    489.855856   39.884865\n",
       "std     29.085615          48.512655   1363.499696   29.085615\n",
       "min      1.990000           0.000000      0.000000    1.990000\n",
       "25%     20.690000           4.000000     14.000000   20.690000\n",
       "50%     32.990000           9.000000     51.000000   32.990000\n",
       "75%     49.990000          10.000000    257.000000   49.990000\n",
       "max    299.990000         557.000000  17854.000000  299.990000"
      ]
     },
     "execution_count": 65,
     "metadata": {},
     "output_type": "execute_result"
    }
   ],
   "source": [
    "women_df.describe()"
   ]
  },
  {
   "cell_type": "code",
   "execution_count": 66,
   "id": "29fe6499-e0e1-4b66-b8f7-c18838565866",
   "metadata": {},
   "outputs": [
    {
     "data": {
      "image/png": "[encoded data removed]",
      "text/plain": [
       "<Figure size 640x480 with 1 Axes>"
      ]
     },
     "metadata": {},
     "output_type": "display_data"
    }
   ],
   "source": [
    "# examine the relationship between availability and items sold\n",
    "sns.scatterplot(x='correct_available', y='correct_sold', data=women_df, hue='price_in_$')\n",
    "plt.title('Availability vs Items sold')\n",
    "plt.xlabel('Available items')\n",
    "plt.ylabel('Sold items')\n",
    "plt.show()"
   ]
  },
  {
   "cell_type": "markdown",
   "id": "6659ba7a-bee1-450d-bdae-d6fc0e1409a1",
   "metadata": {},
   "source": [
    "#### We can observe from this plot that products with lower prices tend to have higher sales."
   ]
  },
  {
   "cell_type": "code",
   "execution_count": 122,
   "id": "46fb45e2-912f-4e91-ac9d-d5c0df27000d",
   "metadata": {},
   "outputs": [
    {
     "name": "stderr",
     "output_type": "stream",
     "text": [
      "C:\\Users\\rania\\anaconda3\\Lib\\site-packages\\seaborn\\_oldcore.py:1119: FutureWarning: use_inf_as_na option is deprecated and will be removed in a future version. Convert inf values to NaN before operating instead.\n",
      "  with pd.option_context('mode.use_inf_as_na', True):\n"
     ]
    },
    {
     "data": {
      "image/png": "[encoded data removed]",
      "text/plain": [
       "<Figure size 640x480 with 1 Axes>"
      ]
     },
     "metadata": {},
     "output_type": "display_data"
    }
   ],
   "source": [
    "# analyze distribution of prices\n",
    "sns.histplot(women_df['price_in_$'], kde=True, bins=20, color='#e0b1cb', edgecolor='none')\n",
    "plt.title('Distribution of prices in $')\n",
    "plt.xlabel('Price in $')\n",
    "plt.ylabel('Frequency')\n",
    "plt.show()"
   ]
  },
  {
   "cell_type": "code",
   "execution_count": 68,
   "id": "a4d13565-0b15-492f-83a8-5a60b1c1d1fa",
   "metadata": {},
   "outputs": [
    {
     "data": {
      "text/plain": [
       "count       999.000000\n",
       "mean      13902.034985\n",
       "std       37019.921180\n",
       "min           0.000000\n",
       "25%         514.915000\n",
       "50%        1749.750000\n",
       "75%        8234.230000\n",
       "max      475987.640000\n",
       "Name: total, dtype: float64"
      ]
     },
     "execution_count": 68,
     "metadata": {},
     "output_type": "execute_result"
    }
   ],
   "source": [
    "# analyze ditribution of total\n",
    "women_df['total'] = women_df['correct_sold'] * women_df['price_in_$']\n",
    "women_df['total'].describe()"
   ]
  },
  {
   "cell_type": "code",
   "execution_count": 69,
   "id": "fe54370d-bb29-4648-9def-8ad935aeaae4",
   "metadata": {},
   "outputs": [
    {
     "name": "stdout",
     "output_type": "stream",
     "text": [
      "Top 10 products by total sales\n",
      "                brand                                              title  \\\n",
      "345      Calvin Klein  Escape by Calvin Klein EDP Perfume for Women 3...   \n",
      "359         Vera Wang  VERA WANG Perfume 3.3 / 3.4 oz EDP For Women S...   \n",
      "323          Givenchy  Amarige by Givenchy 3.3 / 3.4 oz EDT Perfume f...   \n",
      "834           Versace  Versace Bright Crystal Absolu by Versace 3.0 o...   \n",
      "180      Calvin Klein  Eternity by CK Calvin Klein 3.4 oz EDP Perfume...   \n",
      "195          Burberry  Brit Sheer by Burberry 3.3 / 3.4 oz EDT Perfum...   \n",
      "714   Dolce & Gabbana  Light Blue by Dolce & Gabbana D&G 3.3 / 3.4 oz...   \n",
      "160      Estée Lauder  Pleasures by Estee Lauder 3.4 oz EDP Perfume f...   \n",
      "172  Elizabeth Taylor  White Diamonds by Elizabeth Taylor 3.3 3.4 oz ...   \n",
      "209   Dolce & Gabbana  Light Blue eau Intense by Dolce & Gabbana D&G ...   \n",
      "\n",
      "         total  \n",
      "345  475987.64  \n",
      "359  401399.25  \n",
      "323  254879.85  \n",
      "834  237532.68  \n",
      "180  225418.16  \n",
      "195  217180.28  \n",
      "714  209788.50  \n",
      "160  202286.28  \n",
      "172  201897.12  \n",
      "209  198400.02  \n"
     ]
    }
   ],
   "source": [
    "# top 10 products by total sales\n",
    "top_10_sales = women_df.nlargest(10, 'total')\n",
    "print('Top 10 products by total sales')\n",
    "print(top_10_sales[['brand', 'title', 'total']])"
   ]
  },
  {
   "cell_type": "code",
   "execution_count": 70,
   "id": "7681225f-6d79-4ca9-92cc-08a84f7a0691",
   "metadata": {},
   "outputs": [
    {
     "name": "stdout",
     "output_type": "stream",
     "text": [
      "Top 10 products by total sales\n",
      "                   brand                                              title  \\\n",
      "4                Khadlaj  Shiyaaka for Men EDP Spray 100ML (3.4 FL.OZ) B...   \n",
      "114                PRADA           Prada Paradoxe EDP Mini Bottle 7ml/.23oz   \n",
      "117                 Ouai  OUAI Hair & Body Mist In ST. BARTS 3.3oz / 97m...   \n",
      "121       Ellis Brooklyn  NWB Ellis Brooklyn Miami Nectar Eau de Parfum ...   \n",
      "432      Maison Alhambra  DELILAH PERFUME EDP 3.4 OZ BY MAISON ALHAMBRA ...   \n",
      "496    Victoria's Secret  Victoria's Secret Bombshell Sundrenched Eau De...   \n",
      "551       Jean couturier  CORIANDRE by JEAN COUTURIER for Women 30ml-1oz...   \n",
      "602  Giardini Di Toscana  Bianco Latte EDP by Giardini Di Toscana  100 M...   \n",
      "617              Dossier  Dossier MUSKY MUSK Eau de Parfum 1.7 Fl oz / 5...   \n",
      "732               CHANEL  CHANEL Les Eaux De Chanel Paris Eau De Toilett...   \n",
      "\n",
      "     total  \n",
      "4      0.0  \n",
      "114    0.0  \n",
      "117    0.0  \n",
      "121    0.0  \n",
      "432    0.0  \n",
      "496    0.0  \n",
      "551    0.0  \n",
      "602    0.0  \n",
      "617    0.0  \n",
      "732    0.0  \n"
     ]
    }
   ],
   "source": [
    "# bottom 10 products by total sales\n",
    "top_10_sales = women_df.nsmallest(10, 'total')\n",
    "print('Top 10 products by total sales')\n",
    "print(top_10_sales[['brand', 'title', 'total']])"
   ]
  },
  {
   "cell_type": "code",
   "execution_count": 71,
   "id": "a35f5c22-2af7-43a2-b35b-4bf75c690bed",
   "metadata": {},
   "outputs": [
    {
     "data": {
      "text/plain": [
       "brand\n",
       "Calvin Klein           1274841.86\n",
       "Versace                 919794.42\n",
       "Dolce & Gabbana         718936.76\n",
       "Burberry                646250.29\n",
       "Vera Wang               511833.43\n",
       "                          ...    \n",
       "love luxe beauty            15.00\n",
       "Giardini Di Toscana          0.00\n",
       "Jean couturier               0.00\n",
       "Lomani                       0.00\n",
       "Snif                         0.00\n",
       "Name: total, Length: 247, dtype: float64"
      ]
     },
     "execution_count": 71,
     "metadata": {},
     "output_type": "execute_result"
    }
   ],
   "source": [
    "# analyze performance of different brands\n",
    "sales_by_brand = women_df.groupby('brand')['total'].sum().sort_values(ascending=False)\n",
    "sales_by_brand"
   ]
  },
  {
   "cell_type": "code",
   "execution_count": 72,
   "id": "14294f03-c9b4-4077-b0e1-ae746de902b5",
   "metadata": {},
   "outputs": [
    {
     "data": {
      "image/png": "[encoded data removed]",
      "text/plain": [
       "<Figure size 640x480 with 1 Axes>"
      ]
     },
     "metadata": {},
     "output_type": "display_data"
    }
   ],
   "source": [
    "top_10 = sales_by_brand[:20]\n",
    "top_10.plot(kind='bar', color='#e0b1cb')\n",
    "plt.title('Top 20 total sales by brand')\n",
    "plt.xlabel('Brand')\n",
    "plt.ylabel('Total sales')\n",
    "plt.xticks(rotation=70)\n",
    "plt.show()"
   ]
  },
  {
   "cell_type": "code",
   "execution_count": 73,
   "id": "e8d1d106-42cc-4e04-a861-d5c9a8b9b572",
   "metadata": {},
   "outputs": [
    {
     "data": {
      "image/png": "[encoded data removed]",
      "text/plain": [
       "<Figure size 640x480 with 1 Axes>"
      ]
     },
     "metadata": {},
     "output_type": "display_data"
    }
   ],
   "source": [
    "low_10 = sales_by_brand.tail(20)\n",
    "low_10.plot(kind='bar', color='#e0b1cb')\n",
    "plt.title('Low 20 total sales by brand')\n",
    "plt.xlabel('Brand')\n",
    "plt.ylabel('Total sales')\n",
    "plt.xticks(rotation=75)\n",
    "plt.show()"
   ]
  },
  {
   "cell_type": "code",
   "execution_count": 74,
   "id": "cdd52b7f-e008-48cc-aace-599cd483872a",
   "metadata": {},
   "outputs": [
    {
     "data": {
      "text/plain": [
       "type\n",
       "Eau de Parfum                               8561653.04\n",
       "Eau de toilette                             4817722.67\n",
       "Eau de cologne                               316337.81\n",
       "Body Lotion                                   37797.76\n",
       "Gift Sets                                     32541.41\n",
       "body mist                                     26102.91\n",
       "Body Powder                                   21722.76\n",
       "Hair Perfume                                  13966.80\n",
       "Lotion                                        10188.97\n",
       "Deodorant Stick                                8815.59\n",
       "EDT                                            8698.26\n",
       "Perfume Oil                                    6360.19\n",
       "Fragrances                                     5585.99\n",
       "cologne                                        3470.01\n",
       "SKIN_MOISTURIZER                               3032.07\n",
       "Shimmer                                        1975.00\n",
       "Cream                                          1862.31\n",
       "Sensuous Body Moisturizer                      1846.00\n",
       "Oil Perfume                                    1273.51\n",
       "EDP                                            1199.80\n",
       "Shimmering Body Oil                            1049.70\n",
       "SOLID PERFUME STICK                            1005.70\n",
       "Scented Oils                                    636.51\n",
       "EDP and Parfum                                  569.05\n",
       "Eau De Parfum 2 Pcs Set                         559.93\n",
       "deodorant                                       549.89\n",
       "Bath Oil                                        400.00\n",
       "Pink Sugar                                      368.50\n",
       "BEAUTY                                          277.50\n",
       "Eau De Parfum 3 Pcs Set                         211.96\n",
       "Parfum, Lotion, Gloss and Blush                 105.00\n",
       "ASST                                             93.59\n",
       "Extract Parfum                                   65.00\n",
       "3 Pc                                             38.90\n",
       "BODY FIRM ADVANCED BODY REPAIR TREATMENT         29.99\n",
       "Perfume Gift Sets                                18.87\n",
       "Discovery Set                                     0.00\n",
       "Name: total, dtype: float64"
      ]
     },
     "execution_count": 74,
     "metadata": {},
     "output_type": "execute_result"
    }
   ],
   "source": [
    "# analyze performance of different product types\n",
    "sales_by_type = women_df.groupby('type')['total'].sum().sort_values(ascending=False)\n",
    "sales_by_type"
   ]
  },
  {
   "cell_type": "code",
   "execution_count": 125,
   "id": "a0742a7b-21d9-4748-bead-9a6f238a70a0",
   "metadata": {},
   "outputs": [
    {
     "data": {
      "image/png": "[encoded data removed]",
      "text/plain": [
       "<Figure size 640x480 with 1 Axes>"
      ]
     },
     "metadata": {},
     "output_type": "display_data"
    }
   ],
   "source": [
    "top_3_products = sales_by_type[:3]\n",
    "top_3_products.plot(kind='bar', color='#e0b1cb')\n",
    "plt.title('Top 3 total sales by product type')\n",
    "plt.xlabel('Product type')\n",
    "plt.ylabel('Total sales')\n",
    "plt.xticks(rotation=45)\n",
    "plt.show()"
   ]
  },
  {
   "cell_type": "code",
   "execution_count": 76,
   "id": "da4473ee-955b-499d-9d24-c933f50ba450",
   "metadata": {},
   "outputs": [
    {
     "data": {
      "image/png": "[encoded data removed]",
      "text/plain": [
       "<Figure size 640x480 with 1 Axes>"
      ]
     },
     "metadata": {},
     "output_type": "display_data"
    }
   ],
   "source": [
    "low_5 = sales_by_type.tail(5)\n",
    "low_5.plot(kind='bar', color='#e0b1cb')\n",
    "plt.title('Low 5 total sales by product type')\n",
    "plt.xlabel('Product type')\n",
    "plt.ylabel('Total sales')\n",
    "plt.xticks(rotation=80)\n",
    "plt.show()"
   ]
  },
  {
   "cell_type": "code",
   "execution_count": 77,
   "id": "5e8f5691-e82d-4e22-b1bf-170e81828986",
   "metadata": {},
   "outputs": [
    {
     "data": {
      "text/plain": [
       "itemLocation\n",
       "Hackensack, New Jersey, United States        6011697.83\n",
       "Dallas, Texas, United States                 5349550.01\n",
       "Edison, New Jersey, United States             292587.65\n",
       "Katy, Texas, United States                    263493.60\n",
       "Miami, Florida, United States                 128623.86\n",
       "                                                ...    \n",
       "Colorado Springs, Colorado, United States          0.00\n",
       "Bowling Green, Kentucky, United States             0.00\n",
       "Cranford, New Jersey, United States                0.00\n",
       "West Hollywood, California, United States          0.00\n",
       "Little Ferry, New Jersey, United States            0.00\n",
       "Name: total, Length: 299, dtype: float64"
      ]
     },
     "execution_count": 77,
     "metadata": {},
     "output_type": "execute_result"
    }
   ],
   "source": [
    "# total sales by location\n",
    "sales_by_loc = women_df.groupby('itemLocation')['total'].sum().sort_values(ascending=False)\n",
    "sales_by_loc"
   ]
  },
  {
   "cell_type": "code",
   "execution_count": 78,
   "id": "a16785b7-d479-4aed-b3ac-cbd6fd67a323",
   "metadata": {},
   "outputs": [
    {
     "data": {
      "image/png": "[encoded data removed]",
      "text/plain": [
       "<Figure size 640x480 with 1 Axes>"
      ]
     },
     "metadata": {},
     "output_type": "display_data"
    }
   ],
   "source": [
    "top_10sales_by_location = sales_by_loc[:10]\n",
    "top_10sales_by_location.plot(kind='bar', color='#e0b1cb')\n",
    "plt.title('Top 10 total sales by item location')\n",
    "plt.xlabel('Item location')\n",
    "plt.ylabel('Total sales')\n",
    "plt.show()"
   ]
  },
  {
   "cell_type": "code",
   "execution_count": 79,
   "id": "92ec2d66-f0f8-433d-9d0d-bc76c85f1820",
   "metadata": {},
   "outputs": [
    {
     "data": {
      "image/png": "[encoded data removed]",
      "text/plain": [
       "<Figure size 640x480 with 1 Axes>"
      ]
     },
     "metadata": {},
     "output_type": "display_data"
    }
   ],
   "source": [
    "low_10sales_by_location = sales_by_loc.tail(10)\n",
    "low_10sales_by_location.plot(kind='bar', color='#e0b1cb')\n",
    "plt.title('Low 10 total sales by item location')\n",
    "plt.xlabel('Item location')\n",
    "plt.ylabel('Total sales')\n",
    "plt.show()"
   ]
  },
  {
   "cell_type": "markdown",
   "id": "8bc830bd-ff35-486f-adbc-def7519030d2",
   "metadata": {},
   "source": [
    "#### The plot clearly shows an increase in perfume sales during May,indicating a seasonal trend where sales rise as temperatures increase."
   ]
  },
  {
   "cell_type": "code",
   "execution_count": 115,
   "id": "a390aac2-a972-40f8-a0ec-4277101b61b5",
   "metadata": {},
   "outputs": [
    {
     "data": {
      "text/plain": [
       "-0.14225161193585528"
      ]
     },
     "execution_count": 115,
     "metadata": {},
     "output_type": "execute_result"
    }
   ],
   "source": [
    "corr_price_sold = women_df['correct_sold'].corr(women_df['price_in_$'])\n",
    "corr_price_sold"
   ]
  },
  {
   "cell_type": "markdown",
   "id": "d4e03690-192d-4859-a463-155f008cfdf4",
   "metadata": {},
   "source": [
    "#### as the the price of perfume increases, the number of items sold tends to decrease."
   ]
  },
  {
   "cell_type": "code",
   "execution_count": 116,
   "id": "a6b1a6e3-02ae-47a9-ba1d-4aa6275049be",
   "metadata": {},
   "outputs": [
    {
     "data": {
      "image/png": "[encoded data removed]",
      "text/plain": [
       "<Figure size 640x480 with 2 Axes>"
      ]
     },
     "metadata": {},
     "output_type": "display_data"
    }
   ],
   "source": [
    "# correlation\n",
    "df = women_df[['brand', 'price_in_$']].copy()\n",
    "df.loc[:, 'brand_encoded'] = df['brand'].astype('category').cat.codes\n",
    "encoded_df = df[['brand_encoded', 'price_in_$']]\n",
    "correlation_matrix = encoded_df.corr()\n",
    "sns.heatmap(correlation_matrix, annot=True)\n",
    "plt.title('Correlation matrix between brand and price')\n",
    "plt.show()"
   ]
  },
  {
   "cell_type": "markdown",
   "id": "d748a533-ef91-4c05-8691-57a52f4ed47c",
   "metadata": {},
   "source": [
    "#### a correlation value of 0.033 indicates that changes in the brand are not strongly associated with changes in price"
   ]
  },
  {
   "cell_type": "code",
   "execution_count": 117,
   "id": "cd523ba8-a992-478f-adf5-8e23e7574561",
   "metadata": {},
   "outputs": [
    {
     "data": {
      "image/png": "[encoded data removed]",
      "text/plain": [
       "<Figure size 640x480 with 2 Axes>"
      ]
     },
     "metadata": {},
     "output_type": "display_data"
    }
   ],
   "source": [
    "df = women_df[['lastUpdated', 'price_in_$']].copy()\n",
    "df.loc[:, 'lastUpdated_encoded'] = df['lastUpdated'].astype('category').cat.codes\n",
    "encoded_df = df[['lastUpdated_encoded', 'price_in_$']]\n",
    "correlation_matrix = encoded_df.corr()\n",
    "sns.heatmap(correlation_matrix, annot=True)\n",
    "plt.title('Correlation matrix between date and price')\n",
    "plt.show()"
   ]
  },
  {
   "cell_type": "markdown",
   "id": "7563686f-9d4b-425e-9416-2bb2a90b6d32",
   "metadata": {},
   "source": [
    "#### correlation value of -0.015 indicates that date does not significantly impact the pricing of products."
   ]
  },
  {
   "cell_type": "code",
   "execution_count": 118,
   "id": "4f53f4c7-cee5-44f5-93fc-c833682bb169",
   "metadata": {},
   "outputs": [
    {
     "data": {
      "image/png": "[encoded data removed]",
      "text/plain": [
       "<Figure size 640x480 with 2 Axes>"
      ]
     },
     "metadata": {},
     "output_type": "display_data"
    }
   ],
   "source": [
    "df = women_df[['type', 'price_in_$']].copy()\n",
    "df.loc[:, 'type_encoded'] = df['type'].astype('category').cat.codes\n",
    "encoded_df = df[['type_encoded', 'price_in_$']]\n",
    "correlation_matrix = encoded_df.corr()\n",
    "sns.heatmap(correlation_matrix, annot=True)\n",
    "plt.title('Correlation matrix between product type and price')\n",
    "plt.show()"
   ]
  },
  {
   "cell_type": "markdown",
   "id": "18577c02-5c22-460b-8b07-368ddce43639",
   "metadata": {},
   "source": [
    "#### correlation value of -0.082 indicates that the product type has a limited impact on pricing decisions."
   ]
  },
  {
   "cell_type": "code",
   "execution_count": 119,
   "id": "1009a45b-c55e-4bb6-80b8-19f6beb5fa9d",
   "metadata": {},
   "outputs": [
    {
     "data": {
      "image/png": "[encoded data removed]",
      "text/plain": [
       "<Figure size 640x480 with 2 Axes>"
      ]
     },
     "metadata": {},
     "output_type": "display_data"
    }
   ],
   "source": [
    "df = women_df[['title', 'price_in_$']].copy()\n",
    "df.loc[:, 'title_encoded'] = df['title'].astype('category').cat.codes\n",
    "encoded_df = df[['title_encoded', 'price_in_$']]\n",
    "correlation_matrix = encoded_df.corr()\n",
    "sns.heatmap(correlation_matrix, annot=True)\n",
    "plt.title('Correlation matrix between product and price')\n",
    "plt.show()"
   ]
  },
  {
   "cell_type": "markdown",
   "id": "c4ef26cc-80dd-453a-b795-96b0a105e554",
   "metadata": {},
   "source": [
    "#### correlation value of 0.029 indicates that titles of products do not seem to influence their prices."
   ]
  },
  {
   "cell_type": "code",
   "execution_count": 123,
   "id": "13074800-de6a-4be1-aafe-123bc877b74b",
   "metadata": {},
   "outputs": [
    {
     "data": {
      "image/png": "[encoded data removed]",
      "text/plain": [
       "<Figure size 640x480 with 2 Axes>"
      ]
     },
     "metadata": {},
     "output_type": "display_data"
    }
   ],
   "source": [
    "df = women_df[['correct_sold', 'lastUpdated']].copy()\n",
    "df.loc[:, 'lastUpdated_encoded'] = df['lastUpdated'].astype('category').cat.codes\n",
    "encoded_df = df[['lastUpdated_encoded', 'correct_sold']]\n",
    "correlation_matrix = encoded_df.corr()\n",
    "sns.heatmap(correlation_matrix, annot=True)\n",
    "plt.title('Correlation matrix between date and sold items')\n",
    "plt.show()"
   ]
  },
  {
   "cell_type": "markdown",
   "id": "ade6a62b-8522-4357-9a54-dc06ff69fd91",
   "metadata": {},
   "source": [
    "#### correlation value of 0.22 indicates that recent updates are linked with increased sales activity."
   ]
  },
  {
   "cell_type": "markdown",
   "id": "184f0c79-97a5-4953-9d1d-6dfa6e0f3c44",
   "metadata": {},
   "source": [
    "#### The slight increase in sales over time could indicate improving market conditions, effective promotions, or growing consumer interest."
   ]
  },
  {
   "cell_type": "markdown",
   "id": "f6369458-b599-43cf-811f-166e0207cf24",
   "metadata": {},
   "source": [
    "### Summary\n",
    "The analysis reveals that while there are some correlations between variables such as price,\n",
    "availability, brand, and product type, these relationships are generally weak to moderate.\n",
    "Lower-priced fragrances tend to show a slight increase in sales, availability positively\n",
    "influences sales volume, and there are minor differences in pricing based on product type.\n",
    "The brand alone does not significantly impact pricing decisions in this dataset.\n",
    "Additionally, sales of women's fragrances on eBay showed a positive trend over the analyzed period."
   ]
  },
  {
   "cell_type": "code",
   "execution_count": null,
   "id": "f0a80042-d00e-44c3-a372-c44da5eb0baf",
   "metadata": {},
   "outputs": [],
   "source": []
  }
 ],
 "metadata": {
  "kernelspec": {
   "display_name": "Python 3 (ipykernel)",
   "language": "python",
   "name": "python3"
  },
  "language_info": {
   "codemirror_mode": {
    "name": "ipython",
    "version": 3
   },
   "file_extension": ".py",
   "mimetype": "text/x-python",
   "name": "python",
   "nbconvert_exporter": "python",
   "pygments_lexer": "ipython3",
   "version": "3.11.7"
  }
 },
 "nbformat": 4,
 "nbformat_minor": 5
}
